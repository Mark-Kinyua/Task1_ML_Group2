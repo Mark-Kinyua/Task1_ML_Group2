{
  "cells": [
    {
      "cell_type": "markdown",
      "metadata": {
        "colab_type": "text",
        "id": "view-in-github"
      },
      "source": [
        "<a href=\"https://colab.research.google.com/github/Mark-Kinyua/Task1_ML_Group2/blob/main/group_task2_ML_ICS.ipynb\" target=\"_parent\"><img src=\"https://colab.research.google.com/assets/colab-badge.svg\" alt=\"Open In Colab\"/></a>"
      ]
    },
    {
      "cell_type": "code",
      "execution_count": 3,
      "metadata": {
        "id": "_PFM1Gvnh3kW"
      },
      "outputs": [],
      "source": [
        "import io\n",
        "import pandas as pd\n",
        "import numpy as np\n",
        "import matplotlib.pyplot as plt\n",
        "import seaborn as sns\n",
        "from sklearn.model_selection import train_test_split\n",
        "from sklearn.preprocessing import StandardScaler\n",
        "from sklearn.linear_model import LassoCV\n",
        "from keras.models import Sequential\n",
        "from keras.layers import Dense, Activation, Dropout\n",
        "from sklearn.metrics import mean_squared_error, mean_absolute_error, explained_variance_score\n",
        "%matplotlib inline\n",
        "from sklearn.decomposition import PCA\n"
      ]
    },
    {
      "cell_type": "code",
      "execution_count": 4,
      "metadata": {
        "colab": {
          "base_uri": "https://localhost:8080/",
          "height": 73,
          "resources": {
            "http://localhost:8080/nbextensions/google.colab/files.js": {
              "data": "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",
              "headers": [
                [
                  "content-type",
                  "application/javascript"
                ]
              ],
              "ok": true,
              "status": 200,
              "status_text": ""
            }
          }
        },
        "id": "AZJYjsNeyooj",
        "outputId": "34051c71-e2a3-4509-8202-e24ab97a81b1"
      },
      "outputs": [],
      "source": [
        "#from google.colab import files\n",
        "# Importing of data (modified_data.csv)\n",
        "#uploaded = files.upload()"
      ]
    },
    {
      "cell_type": "code",
      "execution_count": 5,
      "metadata": {
        "colab": {
          "base_uri": "https://localhost:8080/",
          "height": 487
        },
        "id": "rT9GTJyJ3Yjg",
        "outputId": "20b97a32-fd4d-4e15-df39-05a986120dcc"
      },
      "outputs": [
        {
          "data": {
            "text/html": [
              "<div>\n",
              "<style scoped>\n",
              "    .dataframe tbody tr th:only-of-type {\n",
              "        vertical-align: middle;\n",
              "    }\n",
              "\n",
              "    .dataframe tbody tr th {\n",
              "        vertical-align: top;\n",
              "    }\n",
              "\n",
              "    .dataframe thead th {\n",
              "        text-align: right;\n",
              "    }\n",
              "</style>\n",
              "<table border=\"1\" class=\"dataframe\">\n",
              "  <thead>\n",
              "    <tr style=\"text-align: right;\">\n",
              "      <th></th>\n",
              "      <th>Id</th>\n",
              "      <th>MSSubClass</th>\n",
              "      <th>MSZoning</th>\n",
              "      <th>LotFrontage</th>\n",
              "      <th>LotArea</th>\n",
              "      <th>Street</th>\n",
              "      <th>LotShape</th>\n",
              "      <th>LandContour</th>\n",
              "      <th>Utilities</th>\n",
              "      <th>LotConfig</th>\n",
              "      <th>...</th>\n",
              "      <th>EnclosedPorch</th>\n",
              "      <th>3SsnPorch</th>\n",
              "      <th>ScreenPorch</th>\n",
              "      <th>PoolArea</th>\n",
              "      <th>MiscVal</th>\n",
              "      <th>MoSold</th>\n",
              "      <th>YrSold</th>\n",
              "      <th>SaleType</th>\n",
              "      <th>SaleCondition</th>\n",
              "      <th>SalePrice</th>\n",
              "    </tr>\n",
              "  </thead>\n",
              "  <tbody>\n",
              "    <tr>\n",
              "      <th>0</th>\n",
              "      <td>1</td>\n",
              "      <td>60</td>\n",
              "      <td>RL</td>\n",
              "      <td>65.0</td>\n",
              "      <td>8450</td>\n",
              "      <td>Pave</td>\n",
              "      <td>Reg</td>\n",
              "      <td>Lvl</td>\n",
              "      <td>AllPub</td>\n",
              "      <td>Inside</td>\n",
              "      <td>...</td>\n",
              "      <td>0</td>\n",
              "      <td>0</td>\n",
              "      <td>0</td>\n",
              "      <td>0</td>\n",
              "      <td>0</td>\n",
              "      <td>2</td>\n",
              "      <td>2008</td>\n",
              "      <td>WD</td>\n",
              "      <td>Normal</td>\n",
              "      <td>208500</td>\n",
              "    </tr>\n",
              "    <tr>\n",
              "      <th>1</th>\n",
              "      <td>2</td>\n",
              "      <td>20</td>\n",
              "      <td>RL</td>\n",
              "      <td>80.0</td>\n",
              "      <td>9600</td>\n",
              "      <td>Pave</td>\n",
              "      <td>Reg</td>\n",
              "      <td>Lvl</td>\n",
              "      <td>AllPub</td>\n",
              "      <td>FR2</td>\n",
              "      <td>...</td>\n",
              "      <td>0</td>\n",
              "      <td>0</td>\n",
              "      <td>0</td>\n",
              "      <td>0</td>\n",
              "      <td>0</td>\n",
              "      <td>5</td>\n",
              "      <td>2007</td>\n",
              "      <td>WD</td>\n",
              "      <td>Normal</td>\n",
              "      <td>181500</td>\n",
              "    </tr>\n",
              "    <tr>\n",
              "      <th>2</th>\n",
              "      <td>3</td>\n",
              "      <td>60</td>\n",
              "      <td>RL</td>\n",
              "      <td>68.0</td>\n",
              "      <td>11250</td>\n",
              "      <td>Pave</td>\n",
              "      <td>IR1</td>\n",
              "      <td>Lvl</td>\n",
              "      <td>AllPub</td>\n",
              "      <td>Inside</td>\n",
              "      <td>...</td>\n",
              "      <td>0</td>\n",
              "      <td>0</td>\n",
              "      <td>0</td>\n",
              "      <td>0</td>\n",
              "      <td>0</td>\n",
              "      <td>9</td>\n",
              "      <td>2008</td>\n",
              "      <td>WD</td>\n",
              "      <td>Normal</td>\n",
              "      <td>223500</td>\n",
              "    </tr>\n",
              "    <tr>\n",
              "      <th>3</th>\n",
              "      <td>4</td>\n",
              "      <td>70</td>\n",
              "      <td>RL</td>\n",
              "      <td>60.0</td>\n",
              "      <td>9550</td>\n",
              "      <td>Pave</td>\n",
              "      <td>IR1</td>\n",
              "      <td>Lvl</td>\n",
              "      <td>AllPub</td>\n",
              "      <td>Corner</td>\n",
              "      <td>...</td>\n",
              "      <td>272</td>\n",
              "      <td>0</td>\n",
              "      <td>0</td>\n",
              "      <td>0</td>\n",
              "      <td>0</td>\n",
              "      <td>2</td>\n",
              "      <td>2006</td>\n",
              "      <td>WD</td>\n",
              "      <td>Abnorml</td>\n",
              "      <td>140000</td>\n",
              "    </tr>\n",
              "    <tr>\n",
              "      <th>4</th>\n",
              "      <td>5</td>\n",
              "      <td>60</td>\n",
              "      <td>RL</td>\n",
              "      <td>84.0</td>\n",
              "      <td>14260</td>\n",
              "      <td>Pave</td>\n",
              "      <td>IR1</td>\n",
              "      <td>Lvl</td>\n",
              "      <td>AllPub</td>\n",
              "      <td>FR2</td>\n",
              "      <td>...</td>\n",
              "      <td>0</td>\n",
              "      <td>0</td>\n",
              "      <td>0</td>\n",
              "      <td>0</td>\n",
              "      <td>0</td>\n",
              "      <td>12</td>\n",
              "      <td>2008</td>\n",
              "      <td>WD</td>\n",
              "      <td>Normal</td>\n",
              "      <td>250000</td>\n",
              "    </tr>\n",
              "    <tr>\n",
              "      <th>...</th>\n",
              "      <td>...</td>\n",
              "      <td>...</td>\n",
              "      <td>...</td>\n",
              "      <td>...</td>\n",
              "      <td>...</td>\n",
              "      <td>...</td>\n",
              "      <td>...</td>\n",
              "      <td>...</td>\n",
              "      <td>...</td>\n",
              "      <td>...</td>\n",
              "      <td>...</td>\n",
              "      <td>...</td>\n",
              "      <td>...</td>\n",
              "      <td>...</td>\n",
              "      <td>...</td>\n",
              "      <td>...</td>\n",
              "      <td>...</td>\n",
              "      <td>...</td>\n",
              "      <td>...</td>\n",
              "      <td>...</td>\n",
              "      <td>...</td>\n",
              "    </tr>\n",
              "    <tr>\n",
              "      <th>1455</th>\n",
              "      <td>1456</td>\n",
              "      <td>60</td>\n",
              "      <td>RL</td>\n",
              "      <td>62.0</td>\n",
              "      <td>7917</td>\n",
              "      <td>Pave</td>\n",
              "      <td>Reg</td>\n",
              "      <td>Lvl</td>\n",
              "      <td>AllPub</td>\n",
              "      <td>Inside</td>\n",
              "      <td>...</td>\n",
              "      <td>0</td>\n",
              "      <td>0</td>\n",
              "      <td>0</td>\n",
              "      <td>0</td>\n",
              "      <td>0</td>\n",
              "      <td>8</td>\n",
              "      <td>2007</td>\n",
              "      <td>WD</td>\n",
              "      <td>Normal</td>\n",
              "      <td>175000</td>\n",
              "    </tr>\n",
              "    <tr>\n",
              "      <th>1456</th>\n",
              "      <td>1457</td>\n",
              "      <td>20</td>\n",
              "      <td>RL</td>\n",
              "      <td>85.0</td>\n",
              "      <td>13175</td>\n",
              "      <td>Pave</td>\n",
              "      <td>Reg</td>\n",
              "      <td>Lvl</td>\n",
              "      <td>AllPub</td>\n",
              "      <td>Inside</td>\n",
              "      <td>...</td>\n",
              "      <td>0</td>\n",
              "      <td>0</td>\n",
              "      <td>0</td>\n",
              "      <td>0</td>\n",
              "      <td>0</td>\n",
              "      <td>2</td>\n",
              "      <td>2010</td>\n",
              "      <td>WD</td>\n",
              "      <td>Normal</td>\n",
              "      <td>210000</td>\n",
              "    </tr>\n",
              "    <tr>\n",
              "      <th>1457</th>\n",
              "      <td>1458</td>\n",
              "      <td>70</td>\n",
              "      <td>RL</td>\n",
              "      <td>66.0</td>\n",
              "      <td>9042</td>\n",
              "      <td>Pave</td>\n",
              "      <td>Reg</td>\n",
              "      <td>Lvl</td>\n",
              "      <td>AllPub</td>\n",
              "      <td>Inside</td>\n",
              "      <td>...</td>\n",
              "      <td>0</td>\n",
              "      <td>0</td>\n",
              "      <td>0</td>\n",
              "      <td>0</td>\n",
              "      <td>2500</td>\n",
              "      <td>5</td>\n",
              "      <td>2010</td>\n",
              "      <td>WD</td>\n",
              "      <td>Normal</td>\n",
              "      <td>266500</td>\n",
              "    </tr>\n",
              "    <tr>\n",
              "      <th>1458</th>\n",
              "      <td>1459</td>\n",
              "      <td>20</td>\n",
              "      <td>RL</td>\n",
              "      <td>68.0</td>\n",
              "      <td>9717</td>\n",
              "      <td>Pave</td>\n",
              "      <td>Reg</td>\n",
              "      <td>Lvl</td>\n",
              "      <td>AllPub</td>\n",
              "      <td>Inside</td>\n",
              "      <td>...</td>\n",
              "      <td>112</td>\n",
              "      <td>0</td>\n",
              "      <td>0</td>\n",
              "      <td>0</td>\n",
              "      <td>0</td>\n",
              "      <td>4</td>\n",
              "      <td>2010</td>\n",
              "      <td>WD</td>\n",
              "      <td>Normal</td>\n",
              "      <td>142125</td>\n",
              "    </tr>\n",
              "    <tr>\n",
              "      <th>1459</th>\n",
              "      <td>1460</td>\n",
              "      <td>20</td>\n",
              "      <td>RL</td>\n",
              "      <td>75.0</td>\n",
              "      <td>9937</td>\n",
              "      <td>Pave</td>\n",
              "      <td>Reg</td>\n",
              "      <td>Lvl</td>\n",
              "      <td>AllPub</td>\n",
              "      <td>Inside</td>\n",
              "      <td>...</td>\n",
              "      <td>0</td>\n",
              "      <td>0</td>\n",
              "      <td>0</td>\n",
              "      <td>0</td>\n",
              "      <td>0</td>\n",
              "      <td>6</td>\n",
              "      <td>2008</td>\n",
              "      <td>WD</td>\n",
              "      <td>Normal</td>\n",
              "      <td>147500</td>\n",
              "    </tr>\n",
              "  </tbody>\n",
              "</table>\n",
              "<p>1460 rows × 77 columns</p>\n",
              "</div>"
            ],
            "text/plain": [
              "        Id  MSSubClass MSZoning  LotFrontage  LotArea Street LotShape  \\\n",
              "0        1          60       RL         65.0     8450   Pave      Reg   \n",
              "1        2          20       RL         80.0     9600   Pave      Reg   \n",
              "2        3          60       RL         68.0    11250   Pave      IR1   \n",
              "3        4          70       RL         60.0     9550   Pave      IR1   \n",
              "4        5          60       RL         84.0    14260   Pave      IR1   \n",
              "...    ...         ...      ...          ...      ...    ...      ...   \n",
              "1455  1456          60       RL         62.0     7917   Pave      Reg   \n",
              "1456  1457          20       RL         85.0    13175   Pave      Reg   \n",
              "1457  1458          70       RL         66.0     9042   Pave      Reg   \n",
              "1458  1459          20       RL         68.0     9717   Pave      Reg   \n",
              "1459  1460          20       RL         75.0     9937   Pave      Reg   \n",
              "\n",
              "     LandContour Utilities LotConfig  ... EnclosedPorch 3SsnPorch ScreenPorch  \\\n",
              "0            Lvl    AllPub    Inside  ...             0         0           0   \n",
              "1            Lvl    AllPub       FR2  ...             0         0           0   \n",
              "2            Lvl    AllPub    Inside  ...             0         0           0   \n",
              "3            Lvl    AllPub    Corner  ...           272         0           0   \n",
              "4            Lvl    AllPub       FR2  ...             0         0           0   \n",
              "...          ...       ...       ...  ...           ...       ...         ...   \n",
              "1455         Lvl    AllPub    Inside  ...             0         0           0   \n",
              "1456         Lvl    AllPub    Inside  ...             0         0           0   \n",
              "1457         Lvl    AllPub    Inside  ...             0         0           0   \n",
              "1458         Lvl    AllPub    Inside  ...           112         0           0   \n",
              "1459         Lvl    AllPub    Inside  ...             0         0           0   \n",
              "\n",
              "     PoolArea MiscVal MoSold  YrSold  SaleType  SaleCondition  SalePrice  \n",
              "0           0       0      2    2008        WD         Normal     208500  \n",
              "1           0       0      5    2007        WD         Normal     181500  \n",
              "2           0       0      9    2008        WD         Normal     223500  \n",
              "3           0       0      2    2006        WD        Abnorml     140000  \n",
              "4           0       0     12    2008        WD         Normal     250000  \n",
              "...       ...     ...    ...     ...       ...            ...        ...  \n",
              "1455        0       0      8    2007        WD         Normal     175000  \n",
              "1456        0       0      2    2010        WD         Normal     210000  \n",
              "1457        0    2500      5    2010        WD         Normal     266500  \n",
              "1458        0       0      4    2010        WD         Normal     142125  \n",
              "1459        0       0      6    2008        WD         Normal     147500  \n",
              "\n",
              "[1460 rows x 77 columns]"
            ]
          },
          "execution_count": 5,
          "metadata": {},
          "output_type": "execute_result"
        }
      ],
      "source": [
        "# Placing csv into a dataframe\n",
        "#df = pd.read_csv(io.BytesIO(uploaded['modified_data.csv']))\n",
        "df = pd.read_csv(r'/home/mark/Downloads/modified_data.csv')\n",
        "data=pd.DataFrame(df)\n",
        "\n",
        "# Show  loaded data\n",
        "data"
      ]
    },
    {
      "cell_type": "code",
      "execution_count": 6,
      "metadata": {
        "colab": {
          "base_uri": "https://localhost:8080/",
          "height": 299
        },
        "id": "QqQD486L47VI",
        "outputId": "59bebc84-6fd1-4f48-b121-328d944443b8"
      },
      "outputs": [],
      "source": [
        "# First 5 rows \n",
        "#data.head()"
      ]
    },
    {
      "cell_type": "code",
      "execution_count": 7,
      "metadata": {
        "colab": {
          "base_uri": "https://localhost:8080/"
        },
        "id": "VLROayXF48wv",
        "outputId": "2639523e-feed-4ca8-e9b2-d698052b3fc4"
      },
      "outputs": [
        {
          "data": {
            "text/plain": [
              "(1460, 77)"
            ]
          },
          "execution_count": 7,
          "metadata": {},
          "output_type": "execute_result"
        }
      ],
      "source": [
        "# Dimensions of dataset\n",
        "data.shape"
      ]
    },
    {
      "cell_type": "markdown",
      "metadata": {
        "id": "5RJJ1JIMNbnH"
      },
      "source": [
        "**Data Preprocessing**"
      ]
    },
    {
      "cell_type": "code",
      "execution_count": 8,
      "metadata": {
        "colab": {
          "base_uri": "https://localhost:8080/",
          "height": 299
        },
        "id": "_H2jIbryNfhb",
        "outputId": "19744e93-501f-418f-9acf-902608533b6b"
      },
      "outputs": [
        {
          "data": {
            "text/html": [
              "<div>\n",
              "<style scoped>\n",
              "    .dataframe tbody tr th:only-of-type {\n",
              "        vertical-align: middle;\n",
              "    }\n",
              "\n",
              "    .dataframe tbody tr th {\n",
              "        vertical-align: top;\n",
              "    }\n",
              "\n",
              "    .dataframe thead th {\n",
              "        text-align: right;\n",
              "    }\n",
              "</style>\n",
              "<table border=\"1\" class=\"dataframe\">\n",
              "  <thead>\n",
              "    <tr style=\"text-align: right;\">\n",
              "      <th></th>\n",
              "      <th>MSSubClass</th>\n",
              "      <th>MSZoning</th>\n",
              "      <th>LotFrontage</th>\n",
              "      <th>LotArea</th>\n",
              "      <th>Street</th>\n",
              "      <th>LotShape</th>\n",
              "      <th>LandContour</th>\n",
              "      <th>Utilities</th>\n",
              "      <th>LotConfig</th>\n",
              "      <th>LandSlope</th>\n",
              "      <th>...</th>\n",
              "      <th>EnclosedPorch</th>\n",
              "      <th>3SsnPorch</th>\n",
              "      <th>ScreenPorch</th>\n",
              "      <th>PoolArea</th>\n",
              "      <th>MiscVal</th>\n",
              "      <th>MoSold</th>\n",
              "      <th>YrSold</th>\n",
              "      <th>SaleType</th>\n",
              "      <th>SaleCondition</th>\n",
              "      <th>SalePrice</th>\n",
              "    </tr>\n",
              "  </thead>\n",
              "  <tbody>\n",
              "    <tr>\n",
              "      <th>0</th>\n",
              "      <td>60</td>\n",
              "      <td>RL</td>\n",
              "      <td>65.0</td>\n",
              "      <td>8450</td>\n",
              "      <td>Pave</td>\n",
              "      <td>Reg</td>\n",
              "      <td>Lvl</td>\n",
              "      <td>AllPub</td>\n",
              "      <td>Inside</td>\n",
              "      <td>Gtl</td>\n",
              "      <td>...</td>\n",
              "      <td>0</td>\n",
              "      <td>0</td>\n",
              "      <td>0</td>\n",
              "      <td>0</td>\n",
              "      <td>0</td>\n",
              "      <td>2</td>\n",
              "      <td>2008</td>\n",
              "      <td>WD</td>\n",
              "      <td>Normal</td>\n",
              "      <td>208500</td>\n",
              "    </tr>\n",
              "    <tr>\n",
              "      <th>1</th>\n",
              "      <td>20</td>\n",
              "      <td>RL</td>\n",
              "      <td>80.0</td>\n",
              "      <td>9600</td>\n",
              "      <td>Pave</td>\n",
              "      <td>Reg</td>\n",
              "      <td>Lvl</td>\n",
              "      <td>AllPub</td>\n",
              "      <td>FR2</td>\n",
              "      <td>Gtl</td>\n",
              "      <td>...</td>\n",
              "      <td>0</td>\n",
              "      <td>0</td>\n",
              "      <td>0</td>\n",
              "      <td>0</td>\n",
              "      <td>0</td>\n",
              "      <td>5</td>\n",
              "      <td>2007</td>\n",
              "      <td>WD</td>\n",
              "      <td>Normal</td>\n",
              "      <td>181500</td>\n",
              "    </tr>\n",
              "    <tr>\n",
              "      <th>2</th>\n",
              "      <td>60</td>\n",
              "      <td>RL</td>\n",
              "      <td>68.0</td>\n",
              "      <td>11250</td>\n",
              "      <td>Pave</td>\n",
              "      <td>IR1</td>\n",
              "      <td>Lvl</td>\n",
              "      <td>AllPub</td>\n",
              "      <td>Inside</td>\n",
              "      <td>Gtl</td>\n",
              "      <td>...</td>\n",
              "      <td>0</td>\n",
              "      <td>0</td>\n",
              "      <td>0</td>\n",
              "      <td>0</td>\n",
              "      <td>0</td>\n",
              "      <td>9</td>\n",
              "      <td>2008</td>\n",
              "      <td>WD</td>\n",
              "      <td>Normal</td>\n",
              "      <td>223500</td>\n",
              "    </tr>\n",
              "    <tr>\n",
              "      <th>3</th>\n",
              "      <td>70</td>\n",
              "      <td>RL</td>\n",
              "      <td>60.0</td>\n",
              "      <td>9550</td>\n",
              "      <td>Pave</td>\n",
              "      <td>IR1</td>\n",
              "      <td>Lvl</td>\n",
              "      <td>AllPub</td>\n",
              "      <td>Corner</td>\n",
              "      <td>Gtl</td>\n",
              "      <td>...</td>\n",
              "      <td>272</td>\n",
              "      <td>0</td>\n",
              "      <td>0</td>\n",
              "      <td>0</td>\n",
              "      <td>0</td>\n",
              "      <td>2</td>\n",
              "      <td>2006</td>\n",
              "      <td>WD</td>\n",
              "      <td>Abnorml</td>\n",
              "      <td>140000</td>\n",
              "    </tr>\n",
              "    <tr>\n",
              "      <th>4</th>\n",
              "      <td>60</td>\n",
              "      <td>RL</td>\n",
              "      <td>84.0</td>\n",
              "      <td>14260</td>\n",
              "      <td>Pave</td>\n",
              "      <td>IR1</td>\n",
              "      <td>Lvl</td>\n",
              "      <td>AllPub</td>\n",
              "      <td>FR2</td>\n",
              "      <td>Gtl</td>\n",
              "      <td>...</td>\n",
              "      <td>0</td>\n",
              "      <td>0</td>\n",
              "      <td>0</td>\n",
              "      <td>0</td>\n",
              "      <td>0</td>\n",
              "      <td>12</td>\n",
              "      <td>2008</td>\n",
              "      <td>WD</td>\n",
              "      <td>Normal</td>\n",
              "      <td>250000</td>\n",
              "    </tr>\n",
              "  </tbody>\n",
              "</table>\n",
              "<p>5 rows × 76 columns</p>\n",
              "</div>"
            ],
            "text/plain": [
              "   MSSubClass MSZoning  LotFrontage  LotArea Street LotShape LandContour  \\\n",
              "0          60       RL         65.0     8450   Pave      Reg         Lvl   \n",
              "1          20       RL         80.0     9600   Pave      Reg         Lvl   \n",
              "2          60       RL         68.0    11250   Pave      IR1         Lvl   \n",
              "3          70       RL         60.0     9550   Pave      IR1         Lvl   \n",
              "4          60       RL         84.0    14260   Pave      IR1         Lvl   \n",
              "\n",
              "  Utilities LotConfig LandSlope  ... EnclosedPorch 3SsnPorch ScreenPorch  \\\n",
              "0    AllPub    Inside       Gtl  ...             0         0           0   \n",
              "1    AllPub       FR2       Gtl  ...             0         0           0   \n",
              "2    AllPub    Inside       Gtl  ...             0         0           0   \n",
              "3    AllPub    Corner       Gtl  ...           272         0           0   \n",
              "4    AllPub       FR2       Gtl  ...             0         0           0   \n",
              "\n",
              "  PoolArea MiscVal  MoSold  YrSold  SaleType  SaleCondition SalePrice  \n",
              "0        0       0       2    2008        WD         Normal    208500  \n",
              "1        0       0       5    2007        WD         Normal    181500  \n",
              "2        0       0       9    2008        WD         Normal    223500  \n",
              "3        0       0       2    2006        WD        Abnorml    140000  \n",
              "4        0       0      12    2008        WD         Normal    250000  \n",
              "\n",
              "[5 rows x 76 columns]"
            ]
          },
          "execution_count": 8,
          "metadata": {},
          "output_type": "execute_result"
        }
      ],
      "source": [
        "#The Id column may not be all too relevant, hence dropping it.\n",
        "data.drop('Id', axis=1, inplace=True)\n",
        "data.head()"
      ]
    },
    {
      "cell_type": "code",
      "execution_count": 9,
      "metadata": {
        "id": "ag2nMepxqKFI"
      },
      "outputs": [],
      "source": [
        "initial_features = list(data.columns)"
      ]
    },
    {
      "cell_type": "code",
      "execution_count": 10,
      "metadata": {
        "colab": {
          "base_uri": "https://localhost:8080/"
        },
        "id": "FwF_L2rwOUrh",
        "outputId": "cb067de6-4936-4fa8-b2d4-df14c5ecb983"
      },
      "outputs": [
        {
          "data": {
            "text/plain": [
              "MSSubClass         0\n",
              "MSZoning           0\n",
              "LotFrontage      259\n",
              "LotArea            0\n",
              "Street             0\n",
              "                ... \n",
              "MoSold             0\n",
              "YrSold             0\n",
              "SaleType           0\n",
              "SaleCondition      0\n",
              "SalePrice          0\n",
              "Length: 76, dtype: int64"
            ]
          },
          "execution_count": 10,
          "metadata": {},
          "output_type": "execute_result"
        }
      ],
      "source": [
        "# Checking for missing values in the dataset\n",
        "data.isnull().sum()"
      ]
    },
    {
      "cell_type": "code",
      "execution_count": 11,
      "metadata": {
        "colab": {
          "base_uri": "https://localhost:8080/"
        },
        "id": "BagSiEMaOiIh",
        "outputId": "9ac159ad-e612-4161-9bfb-09f679653329"
      },
      "outputs": [
        {
          "data": {
            "text/plain": [
              "MSSubClass        0.000000\n",
              "MSZoning          0.000000\n",
              "LotFrontage      17.739726\n",
              "LotArea           0.000000\n",
              "Street            0.000000\n",
              "                   ...    \n",
              "MoSold            0.000000\n",
              "YrSold            0.000000\n",
              "SaleType          0.000000\n",
              "SaleCondition     0.000000\n",
              "SalePrice         0.000000\n",
              "Length: 76, dtype: float64"
            ]
          },
          "execution_count": 11,
          "metadata": {},
          "output_type": "execute_result"
        }
      ],
      "source": [
        "# Using percentage values\n",
        "100* data.isnull().sum()/len(data)"
      ]
    },
    {
      "cell_type": "markdown",
      "metadata": {
        "id": "Q5dnT-MYOrK2"
      },
      "source": [
        " *Looking more into the features*\n"
      ]
    },
    {
      "cell_type": "code",
      "execution_count": 12,
      "metadata": {
        "colab": {
          "base_uri": "https://localhost:8080/"
        },
        "id": "dFNlIw7tOy-B",
        "outputId": "e3b6a21a-6c39-47e0-eb1b-aa62845b4611"
      },
      "outputs": [
        {
          "data": {
            "text/plain": [
              "76"
            ]
          },
          "execution_count": 12,
          "metadata": {},
          "output_type": "execute_result"
        }
      ],
      "source": [
        "feats = list(data.columns) # list structure of features\n",
        "len(feats)# size of the list object (number of columns)"
      ]
    },
    {
      "cell_type": "code",
      "execution_count": 13,
      "metadata": {
        "colab": {
          "base_uri": "https://localhost:8080/"
        },
        "id": "G2PNrX7NO7He",
        "outputId": "afd8b35c-8824-46ef-a5fc-0ec8d7415214"
      },
      "outputs": [
        {
          "data": {
            "text/plain": [
              "15"
            ]
          },
          "execution_count": 13,
          "metadata": {},
          "output_type": "execute_result"
        }
      ],
      "source": [
        "features_with_missing_data = list(data.columns[data.isna().any()]) # list object of features (columns) with missing data\n",
        "len(features_with_missing_data) # size of list object (number of columns with missing values)"
      ]
    },
    {
      "cell_type": "markdown",
      "metadata": {
        "id": "9D2SMsucyBtJ"
      },
      "source": [
        "list the all features with missing data against their percentage values "
      ]
    },
    {
      "cell_type": "code",
      "execution_count": 14,
      "metadata": {
        "colab": {
          "base_uri": "https://localhost:8080/"
        },
        "id": "nGZFNnMAPAyR",
        "outputId": "e92684b6-77ff-433e-c56e-6e1ecc311da9"
      },
      "outputs": [
        {
          "name": "stdout",
          "output_type": "stream",
          "text": [
            "LotFrontage   17.73972602739726\n",
            "MasVnrType   0.547945205479452\n",
            "MasVnrArea   0.547945205479452\n",
            "BsmtQual   2.5342465753424657\n",
            "BsmtCond   2.5342465753424657\n",
            "BsmtExposure   2.6027397260273974\n",
            "BsmtFinType1   2.5342465753424657\n",
            "BsmtFinType2   2.6027397260273974\n",
            "Electrical   0.0684931506849315\n",
            "FireplaceQu   47.26027397260274\n",
            "GarageType   5.5479452054794525\n",
            "GarageYrBlt   5.5479452054794525\n",
            "GarageFinish   5.5479452054794525\n",
            "GarageQual   5.5479452054794525\n",
            "GarageCond   5.5479452054794525\n"
          ]
        }
      ],
      "source": [
        "for i in features_with_missing_data:\n",
        "    print(i, ' ', 100* data[i].isnull().sum()/len(data))"
      ]
    },
    {
      "cell_type": "code",
      "execution_count": 15,
      "metadata": {
        "id": "2EjKE007PL7Y"
      },
      "outputs": [],
      "source": [
        "# Dropping features with more than 50% missing data\n",
        "data.dropna(axis=1, thresh=0.5 * (len(data)), inplace=True)"
      ]
    },
    {
      "cell_type": "markdown",
      "metadata": {
        "id": "Qqp5ZpndPxNH"
      },
      "source": [
        "**Filling in missing values Using backward and forward filing**"
      ]
    },
    {
      "cell_type": "code",
      "execution_count": 16,
      "metadata": {
        "id": "8M9q-qvKP2mg"
      },
      "outputs": [],
      "source": [
        "mean_fill=['LotFrontage', 'MasVnrArea']\n",
        "bfill_data = ['FireplaceQu']\n",
        "ffill_data = list(set(features_with_missing_data)-set(mean_fill)-set(bfill_data))"
      ]
    },
    {
      "cell_type": "code",
      "execution_count": 17,
      "metadata": {
        "colab": {
          "base_uri": "https://localhost:8080/"
        },
        "id": "lI1NBN1bmP_v",
        "outputId": "9412c582-65b7-4d08-ed3a-b3e0a0971f8b"
      },
      "outputs": [
        {
          "data": {
            "text/plain": [
              "['GarageFinish',\n",
              " 'BsmtFinType2',\n",
              " 'BsmtQual',\n",
              " 'BsmtExposure',\n",
              " 'MasVnrType',\n",
              " 'GarageYrBlt',\n",
              " 'BsmtCond',\n",
              " 'GarageQual',\n",
              " 'GarageCond',\n",
              " 'BsmtFinType1',\n",
              " 'Electrical',\n",
              " 'GarageType']"
            ]
          },
          "execution_count": 17,
          "metadata": {},
          "output_type": "execute_result"
        }
      ],
      "source": [
        "ffill_data"
      ]
    },
    {
      "cell_type": "code",
      "execution_count": 18,
      "metadata": {
        "id": "vuh4nO25mVJE"
      },
      "outputs": [],
      "source": [
        "for i in mean_fill:\n",
        "    data[i].fillna(data[i].mean(), inplace=True)"
      ]
    },
    {
      "cell_type": "code",
      "execution_count": 19,
      "metadata": {
        "id": "7msxCjTVm4ig"
      },
      "outputs": [],
      "source": [
        "# Backward filing\n",
        "for j in bfill_data:\n",
        "    data[j].fillna(method = 'bfill', inplace=True)"
      ]
    },
    {
      "cell_type": "code",
      "execution_count": 20,
      "metadata": {
        "id": "6jslq1Jim7_z"
      },
      "outputs": [],
      "source": [
        "# Forward filing\n",
        "for k in ffill_data:\n",
        "    data[k].fillna(method = 'ffill', inplace=True)"
      ]
    },
    {
      "cell_type": "code",
      "execution_count": 21,
      "metadata": {
        "colab": {
          "base_uri": "https://localhost:8080/"
        },
        "id": "Lq94xG_pm-eA",
        "outputId": "61eb7502-3268-455d-902d-c56c74e4b275"
      },
      "outputs": [
        {
          "data": {
            "text/plain": [
              "MSSubClass       0\n",
              "MSZoning         0\n",
              "LotFrontage      0\n",
              "LotArea          0\n",
              "Street           0\n",
              "                ..\n",
              "MoSold           0\n",
              "YrSold           0\n",
              "SaleType         0\n",
              "SaleCondition    0\n",
              "SalePrice        0\n",
              "Length: 76, dtype: int64"
            ]
          },
          "execution_count": 21,
          "metadata": {},
          "output_type": "execute_result"
        }
      ],
      "source": [
        "data.isnull().sum()"
      ]
    },
    {
      "cell_type": "markdown",
      "metadata": {
        "id": "Lah4i9iGnQiC"
      },
      "source": [
        "Encoding the Dataset\n",
        "This will ensure the model does not put weights to what need not weighting.\n",
        "List all non-numeric columns\n",
        "\n",
        "Extract Categorical Data"
      ]
    },
    {
      "cell_type": "code",
      "execution_count": 22,
      "metadata": {
        "id": "WZ7wpeSPnT6X"
      },
      "outputs": [],
      "source": [
        "categorical_features = list(data.select_dtypes(include=['object']).copy().columns)"
      ]
    },
    {
      "cell_type": "code",
      "execution_count": 23,
      "metadata": {
        "colab": {
          "base_uri": "https://localhost:8080/"
        },
        "id": "_X25sWQ6nZZL",
        "outputId": "e4216ad9-e3fc-4f5f-84a9-d2234f648534"
      },
      "outputs": [
        {
          "data": {
            "text/plain": [
              "['MSZoning', 'Street', 'LotShape', 'LandContour', 'Utilities']"
            ]
          },
          "execution_count": 23,
          "metadata": {},
          "output_type": "execute_result"
        }
      ],
      "source": [
        "categorical_features[:5]"
      ]
    },
    {
      "cell_type": "code",
      "execution_count": 24,
      "metadata": {
        "colab": {
          "base_uri": "https://localhost:8080/"
        },
        "id": "x5Ns4BYkndWa",
        "outputId": "813c93ef-a1f0-44f7-f2c3-abeb86776aff"
      },
      "outputs": [
        {
          "data": {
            "text/plain": [
              "39"
            ]
          },
          "execution_count": 24,
          "metadata": {},
          "output_type": "execute_result"
        }
      ],
      "source": [
        "len(categorical_features)"
      ]
    },
    {
      "cell_type": "code",
      "execution_count": 25,
      "metadata": {
        "id": "0HHyFpfwng1o"
      },
      "outputs": [],
      "source": [
        "nom_data=['MSZoning', 'LandContour', 'LotConfig','Neighborhood','RoofStyle','RoofMatl','Exterior1st','Exterior2nd','Foundation','BsmtFinType1','CentralAir']\n",
        "ord_data = list(set(categorical_features)-set(nom_data))\n",
        "num_data = list(set(initial_features)-set(categorical_features))\n",
        "target = ['SalePrice']"
      ]
    },
    {
      "cell_type": "code",
      "execution_count": 26,
      "metadata": {
        "colab": {
          "base_uri": "https://localhost:8080/",
          "height": 487
        },
        "id": "3VrjpavjqU8W",
        "outputId": "d885f151-6b22-4200-a551-587cafb13f58"
      },
      "outputs": [
        {
          "data": {
            "text/html": [
              "<div>\n",
              "<style scoped>\n",
              "    .dataframe tbody tr th:only-of-type {\n",
              "        vertical-align: middle;\n",
              "    }\n",
              "\n",
              "    .dataframe tbody tr th {\n",
              "        vertical-align: top;\n",
              "    }\n",
              "\n",
              "    .dataframe thead th {\n",
              "        text-align: right;\n",
              "    }\n",
              "</style>\n",
              "<table border=\"1\" class=\"dataframe\">\n",
              "  <thead>\n",
              "    <tr style=\"text-align: right;\">\n",
              "      <th></th>\n",
              "      <th>Fireplaces</th>\n",
              "      <th>EnclosedPorch</th>\n",
              "      <th>LotArea</th>\n",
              "      <th>OverallQual</th>\n",
              "      <th>BsmtFinSF1</th>\n",
              "      <th>OverallCond</th>\n",
              "      <th>BsmtFullBath</th>\n",
              "      <th>TotalBsmtSF</th>\n",
              "      <th>YearRemodAdd</th>\n",
              "      <th>PoolArea</th>\n",
              "      <th>...</th>\n",
              "      <th>GrLivArea</th>\n",
              "      <th>TotRmsAbvGrd</th>\n",
              "      <th>1stFlrSF</th>\n",
              "      <th>ScreenPorch</th>\n",
              "      <th>MasVnrArea</th>\n",
              "      <th>BedroomAbvGr</th>\n",
              "      <th>MoSold</th>\n",
              "      <th>BsmtFinSF2</th>\n",
              "      <th>HalfBath</th>\n",
              "      <th>MSSubClass</th>\n",
              "    </tr>\n",
              "  </thead>\n",
              "  <tbody>\n",
              "    <tr>\n",
              "      <th>0</th>\n",
              "      <td>0</td>\n",
              "      <td>0</td>\n",
              "      <td>8450</td>\n",
              "      <td>7</td>\n",
              "      <td>706</td>\n",
              "      <td>5</td>\n",
              "      <td>1</td>\n",
              "      <td>856</td>\n",
              "      <td>2003</td>\n",
              "      <td>0</td>\n",
              "      <td>...</td>\n",
              "      <td>1710</td>\n",
              "      <td>8</td>\n",
              "      <td>856</td>\n",
              "      <td>0</td>\n",
              "      <td>196.0</td>\n",
              "      <td>3</td>\n",
              "      <td>2</td>\n",
              "      <td>0</td>\n",
              "      <td>1</td>\n",
              "      <td>60</td>\n",
              "    </tr>\n",
              "    <tr>\n",
              "      <th>1</th>\n",
              "      <td>1</td>\n",
              "      <td>0</td>\n",
              "      <td>9600</td>\n",
              "      <td>6</td>\n",
              "      <td>978</td>\n",
              "      <td>8</td>\n",
              "      <td>0</td>\n",
              "      <td>1262</td>\n",
              "      <td>1976</td>\n",
              "      <td>0</td>\n",
              "      <td>...</td>\n",
              "      <td>1262</td>\n",
              "      <td>6</td>\n",
              "      <td>1262</td>\n",
              "      <td>0</td>\n",
              "      <td>0.0</td>\n",
              "      <td>3</td>\n",
              "      <td>5</td>\n",
              "      <td>0</td>\n",
              "      <td>0</td>\n",
              "      <td>20</td>\n",
              "    </tr>\n",
              "    <tr>\n",
              "      <th>2</th>\n",
              "      <td>1</td>\n",
              "      <td>0</td>\n",
              "      <td>11250</td>\n",
              "      <td>7</td>\n",
              "      <td>486</td>\n",
              "      <td>5</td>\n",
              "      <td>1</td>\n",
              "      <td>920</td>\n",
              "      <td>2002</td>\n",
              "      <td>0</td>\n",
              "      <td>...</td>\n",
              "      <td>1786</td>\n",
              "      <td>6</td>\n",
              "      <td>920</td>\n",
              "      <td>0</td>\n",
              "      <td>162.0</td>\n",
              "      <td>3</td>\n",
              "      <td>9</td>\n",
              "      <td>0</td>\n",
              "      <td>1</td>\n",
              "      <td>60</td>\n",
              "    </tr>\n",
              "    <tr>\n",
              "      <th>3</th>\n",
              "      <td>1</td>\n",
              "      <td>272</td>\n",
              "      <td>9550</td>\n",
              "      <td>7</td>\n",
              "      <td>216</td>\n",
              "      <td>5</td>\n",
              "      <td>1</td>\n",
              "      <td>756</td>\n",
              "      <td>1970</td>\n",
              "      <td>0</td>\n",
              "      <td>...</td>\n",
              "      <td>1717</td>\n",
              "      <td>7</td>\n",
              "      <td>961</td>\n",
              "      <td>0</td>\n",
              "      <td>0.0</td>\n",
              "      <td>3</td>\n",
              "      <td>2</td>\n",
              "      <td>0</td>\n",
              "      <td>0</td>\n",
              "      <td>70</td>\n",
              "    </tr>\n",
              "    <tr>\n",
              "      <th>4</th>\n",
              "      <td>1</td>\n",
              "      <td>0</td>\n",
              "      <td>14260</td>\n",
              "      <td>8</td>\n",
              "      <td>655</td>\n",
              "      <td>5</td>\n",
              "      <td>1</td>\n",
              "      <td>1145</td>\n",
              "      <td>2000</td>\n",
              "      <td>0</td>\n",
              "      <td>...</td>\n",
              "      <td>2198</td>\n",
              "      <td>9</td>\n",
              "      <td>1145</td>\n",
              "      <td>0</td>\n",
              "      <td>350.0</td>\n",
              "      <td>4</td>\n",
              "      <td>12</td>\n",
              "      <td>0</td>\n",
              "      <td>1</td>\n",
              "      <td>60</td>\n",
              "    </tr>\n",
              "    <tr>\n",
              "      <th>...</th>\n",
              "      <td>...</td>\n",
              "      <td>...</td>\n",
              "      <td>...</td>\n",
              "      <td>...</td>\n",
              "      <td>...</td>\n",
              "      <td>...</td>\n",
              "      <td>...</td>\n",
              "      <td>...</td>\n",
              "      <td>...</td>\n",
              "      <td>...</td>\n",
              "      <td>...</td>\n",
              "      <td>...</td>\n",
              "      <td>...</td>\n",
              "      <td>...</td>\n",
              "      <td>...</td>\n",
              "      <td>...</td>\n",
              "      <td>...</td>\n",
              "      <td>...</td>\n",
              "      <td>...</td>\n",
              "      <td>...</td>\n",
              "      <td>...</td>\n",
              "    </tr>\n",
              "    <tr>\n",
              "      <th>1455</th>\n",
              "      <td>1</td>\n",
              "      <td>0</td>\n",
              "      <td>7917</td>\n",
              "      <td>6</td>\n",
              "      <td>0</td>\n",
              "      <td>5</td>\n",
              "      <td>0</td>\n",
              "      <td>953</td>\n",
              "      <td>2000</td>\n",
              "      <td>0</td>\n",
              "      <td>...</td>\n",
              "      <td>1647</td>\n",
              "      <td>7</td>\n",
              "      <td>953</td>\n",
              "      <td>0</td>\n",
              "      <td>0.0</td>\n",
              "      <td>3</td>\n",
              "      <td>8</td>\n",
              "      <td>0</td>\n",
              "      <td>1</td>\n",
              "      <td>60</td>\n",
              "    </tr>\n",
              "    <tr>\n",
              "      <th>1456</th>\n",
              "      <td>2</td>\n",
              "      <td>0</td>\n",
              "      <td>13175</td>\n",
              "      <td>6</td>\n",
              "      <td>790</td>\n",
              "      <td>6</td>\n",
              "      <td>1</td>\n",
              "      <td>1542</td>\n",
              "      <td>1988</td>\n",
              "      <td>0</td>\n",
              "      <td>...</td>\n",
              "      <td>2073</td>\n",
              "      <td>7</td>\n",
              "      <td>2073</td>\n",
              "      <td>0</td>\n",
              "      <td>119.0</td>\n",
              "      <td>3</td>\n",
              "      <td>2</td>\n",
              "      <td>163</td>\n",
              "      <td>0</td>\n",
              "      <td>20</td>\n",
              "    </tr>\n",
              "    <tr>\n",
              "      <th>1457</th>\n",
              "      <td>2</td>\n",
              "      <td>0</td>\n",
              "      <td>9042</td>\n",
              "      <td>7</td>\n",
              "      <td>275</td>\n",
              "      <td>9</td>\n",
              "      <td>0</td>\n",
              "      <td>1152</td>\n",
              "      <td>2006</td>\n",
              "      <td>0</td>\n",
              "      <td>...</td>\n",
              "      <td>2340</td>\n",
              "      <td>9</td>\n",
              "      <td>1188</td>\n",
              "      <td>0</td>\n",
              "      <td>0.0</td>\n",
              "      <td>4</td>\n",
              "      <td>5</td>\n",
              "      <td>0</td>\n",
              "      <td>0</td>\n",
              "      <td>70</td>\n",
              "    </tr>\n",
              "    <tr>\n",
              "      <th>1458</th>\n",
              "      <td>0</td>\n",
              "      <td>112</td>\n",
              "      <td>9717</td>\n",
              "      <td>5</td>\n",
              "      <td>49</td>\n",
              "      <td>6</td>\n",
              "      <td>1</td>\n",
              "      <td>1078</td>\n",
              "      <td>1996</td>\n",
              "      <td>0</td>\n",
              "      <td>...</td>\n",
              "      <td>1078</td>\n",
              "      <td>5</td>\n",
              "      <td>1078</td>\n",
              "      <td>0</td>\n",
              "      <td>0.0</td>\n",
              "      <td>2</td>\n",
              "      <td>4</td>\n",
              "      <td>1029</td>\n",
              "      <td>0</td>\n",
              "      <td>20</td>\n",
              "    </tr>\n",
              "    <tr>\n",
              "      <th>1459</th>\n",
              "      <td>0</td>\n",
              "      <td>0</td>\n",
              "      <td>9937</td>\n",
              "      <td>5</td>\n",
              "      <td>830</td>\n",
              "      <td>6</td>\n",
              "      <td>1</td>\n",
              "      <td>1256</td>\n",
              "      <td>1965</td>\n",
              "      <td>0</td>\n",
              "      <td>...</td>\n",
              "      <td>1256</td>\n",
              "      <td>6</td>\n",
              "      <td>1256</td>\n",
              "      <td>0</td>\n",
              "      <td>0.0</td>\n",
              "      <td>3</td>\n",
              "      <td>6</td>\n",
              "      <td>290</td>\n",
              "      <td>1</td>\n",
              "      <td>20</td>\n",
              "    </tr>\n",
              "  </tbody>\n",
              "</table>\n",
              "<p>1460 rows × 37 columns</p>\n",
              "</div>"
            ],
            "text/plain": [
              "      Fireplaces  EnclosedPorch  LotArea  OverallQual  BsmtFinSF1  \\\n",
              "0              0              0     8450            7         706   \n",
              "1              1              0     9600            6         978   \n",
              "2              1              0    11250            7         486   \n",
              "3              1            272     9550            7         216   \n",
              "4              1              0    14260            8         655   \n",
              "...          ...            ...      ...          ...         ...   \n",
              "1455           1              0     7917            6           0   \n",
              "1456           2              0    13175            6         790   \n",
              "1457           2              0     9042            7         275   \n",
              "1458           0            112     9717            5          49   \n",
              "1459           0              0     9937            5         830   \n",
              "\n",
              "      OverallCond  BsmtFullBath  TotalBsmtSF  YearRemodAdd  PoolArea  ...  \\\n",
              "0               5             1          856          2003         0  ...   \n",
              "1               8             0         1262          1976         0  ...   \n",
              "2               5             1          920          2002         0  ...   \n",
              "3               5             1          756          1970         0  ...   \n",
              "4               5             1         1145          2000         0  ...   \n",
              "...           ...           ...          ...           ...       ...  ...   \n",
              "1455            5             0          953          2000         0  ...   \n",
              "1456            6             1         1542          1988         0  ...   \n",
              "1457            9             0         1152          2006         0  ...   \n",
              "1458            6             1         1078          1996         0  ...   \n",
              "1459            6             1         1256          1965         0  ...   \n",
              "\n",
              "      GrLivArea  TotRmsAbvGrd  1stFlrSF  ScreenPorch  MasVnrArea  \\\n",
              "0          1710             8       856            0       196.0   \n",
              "1          1262             6      1262            0         0.0   \n",
              "2          1786             6       920            0       162.0   \n",
              "3          1717             7       961            0         0.0   \n",
              "4          2198             9      1145            0       350.0   \n",
              "...         ...           ...       ...          ...         ...   \n",
              "1455       1647             7       953            0         0.0   \n",
              "1456       2073             7      2073            0       119.0   \n",
              "1457       2340             9      1188            0         0.0   \n",
              "1458       1078             5      1078            0         0.0   \n",
              "1459       1256             6      1256            0         0.0   \n",
              "\n",
              "      BedroomAbvGr  MoSold  BsmtFinSF2  HalfBath  MSSubClass  \n",
              "0                3       2           0         1          60  \n",
              "1                3       5           0         0          20  \n",
              "2                3       9           0         1          60  \n",
              "3                3       2           0         0          70  \n",
              "4                4      12           0         1          60  \n",
              "...            ...     ...         ...       ...         ...  \n",
              "1455             3       8           0         1          60  \n",
              "1456             3       2         163         0          20  \n",
              "1457             4       5           0         0          70  \n",
              "1458             2       4        1029         0          20  \n",
              "1459             3       6         290         1          20  \n",
              "\n",
              "[1460 rows x 37 columns]"
            ]
          },
          "execution_count": 26,
          "metadata": {},
          "output_type": "execute_result"
        }
      ],
      "source": [
        "data[num_data]"
      ]
    },
    {
      "cell_type": "code",
      "execution_count": 27,
      "metadata": {
        "id": "v5ehan7Jqsi0"
      },
      "outputs": [],
      "source": [
        "for i in ord_data:\n",
        "    data[i] = (data[i].astype('category')).cat.codes"
      ]
    },
    {
      "cell_type": "code",
      "execution_count": 28,
      "metadata": {
        "id": "F-UerTNYqwex"
      },
      "outputs": [],
      "source": [
        "df_ord = data[ord_data]"
      ]
    },
    {
      "cell_type": "markdown",
      "metadata": {
        "id": "5Yfhj2GyqzRr"
      },
      "source": [
        "Implementing One Hot Encoding This is for the norminal data"
      ]
    },
    {
      "cell_type": "code",
      "execution_count": 29,
      "metadata": {
        "id": "kpF_04Yiq3e8"
      },
      "outputs": [],
      "source": [
        "df_nom = pd.get_dummies(data[nom_data])"
      ]
    },
    {
      "cell_type": "markdown",
      "metadata": {
        "id": "ZXQ7A_GCq-WM"
      },
      "source": [
        "Putting the data back together"
      ]
    },
    {
      "cell_type": "code",
      "execution_count": 30,
      "metadata": {
        "id": "MdSwhfXBq7ug"
      },
      "outputs": [],
      "source": [
        "df_num = data[num_data]"
      ]
    },
    {
      "cell_type": "code",
      "execution_count": 31,
      "metadata": {
        "id": "KpxFbfrqq79J"
      },
      "outputs": [],
      "source": [
        "joined_data = pd.concat([df_num, df_nom, df_ord], axis=1)"
      ]
    },
    {
      "cell_type": "code",
      "execution_count": 32,
      "metadata": {
        "colab": {
          "base_uri": "https://localhost:8080/",
          "height": 299
        },
        "id": "26TFgCOaq8LZ",
        "outputId": "4a550944-f9e9-410b-899d-b1d0cb19d2e2"
      },
      "outputs": [
        {
          "data": {
            "text/html": [
              "<div>\n",
              "<style scoped>\n",
              "    .dataframe tbody tr th:only-of-type {\n",
              "        vertical-align: middle;\n",
              "    }\n",
              "\n",
              "    .dataframe tbody tr th {\n",
              "        vertical-align: top;\n",
              "    }\n",
              "\n",
              "    .dataframe thead th {\n",
              "        text-align: right;\n",
              "    }\n",
              "</style>\n",
              "<table border=\"1\" class=\"dataframe\">\n",
              "  <thead>\n",
              "    <tr style=\"text-align: right;\">\n",
              "      <th></th>\n",
              "      <th>Fireplaces</th>\n",
              "      <th>EnclosedPorch</th>\n",
              "      <th>LotArea</th>\n",
              "      <th>OverallQual</th>\n",
              "      <th>BsmtFinSF1</th>\n",
              "      <th>OverallCond</th>\n",
              "      <th>BsmtFullBath</th>\n",
              "      <th>TotalBsmtSF</th>\n",
              "      <th>YearRemodAdd</th>\n",
              "      <th>PoolArea</th>\n",
              "      <th>...</th>\n",
              "      <th>ExterQual</th>\n",
              "      <th>BsmtCond</th>\n",
              "      <th>LandSlope</th>\n",
              "      <th>HouseStyle</th>\n",
              "      <th>GarageFinish</th>\n",
              "      <th>SaleType</th>\n",
              "      <th>Functional</th>\n",
              "      <th>PavedDrive</th>\n",
              "      <th>GarageQual</th>\n",
              "      <th>GarageCond</th>\n",
              "    </tr>\n",
              "  </thead>\n",
              "  <tbody>\n",
              "    <tr>\n",
              "      <th>0</th>\n",
              "      <td>0</td>\n",
              "      <td>0</td>\n",
              "      <td>8450</td>\n",
              "      <td>7</td>\n",
              "      <td>706</td>\n",
              "      <td>5</td>\n",
              "      <td>1</td>\n",
              "      <td>856</td>\n",
              "      <td>2003</td>\n",
              "      <td>0</td>\n",
              "      <td>...</td>\n",
              "      <td>2</td>\n",
              "      <td>3</td>\n",
              "      <td>0</td>\n",
              "      <td>5</td>\n",
              "      <td>1</td>\n",
              "      <td>8</td>\n",
              "      <td>6</td>\n",
              "      <td>2</td>\n",
              "      <td>4</td>\n",
              "      <td>4</td>\n",
              "    </tr>\n",
              "    <tr>\n",
              "      <th>1</th>\n",
              "      <td>1</td>\n",
              "      <td>0</td>\n",
              "      <td>9600</td>\n",
              "      <td>6</td>\n",
              "      <td>978</td>\n",
              "      <td>8</td>\n",
              "      <td>0</td>\n",
              "      <td>1262</td>\n",
              "      <td>1976</td>\n",
              "      <td>0</td>\n",
              "      <td>...</td>\n",
              "      <td>3</td>\n",
              "      <td>3</td>\n",
              "      <td>0</td>\n",
              "      <td>2</td>\n",
              "      <td>1</td>\n",
              "      <td>8</td>\n",
              "      <td>6</td>\n",
              "      <td>2</td>\n",
              "      <td>4</td>\n",
              "      <td>4</td>\n",
              "    </tr>\n",
              "    <tr>\n",
              "      <th>2</th>\n",
              "      <td>1</td>\n",
              "      <td>0</td>\n",
              "      <td>11250</td>\n",
              "      <td>7</td>\n",
              "      <td>486</td>\n",
              "      <td>5</td>\n",
              "      <td>1</td>\n",
              "      <td>920</td>\n",
              "      <td>2002</td>\n",
              "      <td>0</td>\n",
              "      <td>...</td>\n",
              "      <td>2</td>\n",
              "      <td>3</td>\n",
              "      <td>0</td>\n",
              "      <td>5</td>\n",
              "      <td>1</td>\n",
              "      <td>8</td>\n",
              "      <td>6</td>\n",
              "      <td>2</td>\n",
              "      <td>4</td>\n",
              "      <td>4</td>\n",
              "    </tr>\n",
              "    <tr>\n",
              "      <th>3</th>\n",
              "      <td>1</td>\n",
              "      <td>272</td>\n",
              "      <td>9550</td>\n",
              "      <td>7</td>\n",
              "      <td>216</td>\n",
              "      <td>5</td>\n",
              "      <td>1</td>\n",
              "      <td>756</td>\n",
              "      <td>1970</td>\n",
              "      <td>0</td>\n",
              "      <td>...</td>\n",
              "      <td>3</td>\n",
              "      <td>1</td>\n",
              "      <td>0</td>\n",
              "      <td>5</td>\n",
              "      <td>2</td>\n",
              "      <td>8</td>\n",
              "      <td>6</td>\n",
              "      <td>2</td>\n",
              "      <td>4</td>\n",
              "      <td>4</td>\n",
              "    </tr>\n",
              "    <tr>\n",
              "      <th>4</th>\n",
              "      <td>1</td>\n",
              "      <td>0</td>\n",
              "      <td>14260</td>\n",
              "      <td>8</td>\n",
              "      <td>655</td>\n",
              "      <td>5</td>\n",
              "      <td>1</td>\n",
              "      <td>1145</td>\n",
              "      <td>2000</td>\n",
              "      <td>0</td>\n",
              "      <td>...</td>\n",
              "      <td>2</td>\n",
              "      <td>3</td>\n",
              "      <td>0</td>\n",
              "      <td>5</td>\n",
              "      <td>1</td>\n",
              "      <td>8</td>\n",
              "      <td>6</td>\n",
              "      <td>2</td>\n",
              "      <td>4</td>\n",
              "      <td>4</td>\n",
              "    </tr>\n",
              "  </tbody>\n",
              "</table>\n",
              "<p>5 rows × 163 columns</p>\n",
              "</div>"
            ],
            "text/plain": [
              "   Fireplaces  EnclosedPorch  LotArea  OverallQual  BsmtFinSF1  OverallCond  \\\n",
              "0           0              0     8450            7         706            5   \n",
              "1           1              0     9600            6         978            8   \n",
              "2           1              0    11250            7         486            5   \n",
              "3           1            272     9550            7         216            5   \n",
              "4           1              0    14260            8         655            5   \n",
              "\n",
              "   BsmtFullBath  TotalBsmtSF  YearRemodAdd  PoolArea  ...  ExterQual  \\\n",
              "0             1          856          2003         0  ...          2   \n",
              "1             0         1262          1976         0  ...          3   \n",
              "2             1          920          2002         0  ...          2   \n",
              "3             1          756          1970         0  ...          3   \n",
              "4             1         1145          2000         0  ...          2   \n",
              "\n",
              "   BsmtCond  LandSlope  HouseStyle  GarageFinish  SaleType  Functional  \\\n",
              "0         3          0           5             1         8           6   \n",
              "1         3          0           2             1         8           6   \n",
              "2         3          0           5             1         8           6   \n",
              "3         1          0           5             2         8           6   \n",
              "4         3          0           5             1         8           6   \n",
              "\n",
              "   PavedDrive  GarageQual  GarageCond  \n",
              "0           2           4           4  \n",
              "1           2           4           4  \n",
              "2           2           4           4  \n",
              "3           2           4           4  \n",
              "4           2           4           4  \n",
              "\n",
              "[5 rows x 163 columns]"
            ]
          },
          "execution_count": 32,
          "metadata": {},
          "output_type": "execute_result"
        }
      ],
      "source": [
        "joined_data.head()"
      ]
    },
    {
      "cell_type": "markdown",
      "metadata": {
        "id": "w1Ao_e8lrKQU"
      },
      "source": [
        "Standardize the dataset"
      ]
    },
    {
      "cell_type": "code",
      "execution_count": 33,
      "metadata": {
        "id": "h4Ah_Nsiq8as"
      },
      "outputs": [],
      "source": [
        "scaler = StandardScaler()"
      ]
    },
    {
      "cell_type": "code",
      "execution_count": 34,
      "metadata": {
        "id": "0v72BcRzq8pO"
      },
      "outputs": [],
      "source": [
        "df_X = joined_data.drop('SalePrice', axis=1)\n",
        "X = np.array(df_X)"
      ]
    },
    {
      "cell_type": "code",
      "execution_count": 35,
      "metadata": {
        "id": "I7_Hlkzqq82M"
      },
      "outputs": [],
      "source": [
        "df_y = data[target]\n",
        "y = np.array(df_y)"
      ]
    },
    {
      "cell_type": "code",
      "execution_count": 36,
      "metadata": {
        "colab": {
          "base_uri": "https://localhost:8080/"
        },
        "id": "_1sNMaFdri9N",
        "outputId": "367d331b-7171-46f8-9f2b-b815fa02622d"
      },
      "outputs": [
        {
          "data": {
            "text/plain": [
              "(1460, 162)"
            ]
          },
          "execution_count": 36,
          "metadata": {},
          "output_type": "execute_result"
        }
      ],
      "source": [
        "X.shape"
      ]
    },
    {
      "cell_type": "code",
      "execution_count": 37,
      "metadata": {
        "colab": {
          "base_uri": "https://localhost:8080/"
        },
        "id": "6ttaD1CyrjLk",
        "outputId": "974f89b3-2b96-45f3-ce09-d59f5b1fd30d"
      },
      "outputs": [
        {
          "data": {
            "text/plain": [
              "(1460, 1)"
            ]
          },
          "execution_count": 37,
          "metadata": {},
          "output_type": "execute_result"
        }
      ],
      "source": [
        "y.shape"
      ]
    },
    {
      "cell_type": "code",
      "execution_count": 38,
      "metadata": {
        "id": "nLaj5EdsrjXu"
      },
      "outputs": [],
      "source": [
        "X=scaler.fit_transform(X)\n",
        "y=scaler.fit_transform(y)"
      ]
    },
    {
      "cell_type": "markdown",
      "metadata": {},
      "source": [
        "PCA Dimensionality Reduction"
      ]
    },
    {
      "cell_type": "code",
      "execution_count": 39,
      "metadata": {},
      "outputs": [
        {
          "data": {
            "text/plain": [
              "array([[ 3.39147187, -1.54925439],\n",
              "       [-0.38516358,  2.41237981],\n",
              "       [ 3.74076896, -1.16518398],\n",
              "       ...,\n",
              "       [ 0.90896391, -1.55575607],\n",
              "       [-2.82171373,  2.4485031 ],\n",
              "       [-1.19945702,  3.10110877]])"
            ]
          },
          "execution_count": 39,
          "metadata": {},
          "output_type": "execute_result"
        }
      ],
      "source": [
        "pca = PCA(n_components=2)\n",
        "p_components = pca.fit_transform(X)\n",
        "p_components"
      ]
    },
    {
      "cell_type": "code",
      "execution_count": 57,
      "metadata": {},
      "outputs": [
        {
          "data": {
            "text/plain": [
              "array([0.08143554, 0.03939417])"
            ]
          },
          "execution_count": 57,
          "metadata": {},
          "output_type": "execute_result"
        }
      ],
      "source": [
        "pca.explained_variance_ratio_"
      ]
    },
    {
      "cell_type": "markdown",
      "metadata": {
        "id": "bXdzKCMWrs32"
      },
      "source": [
        "***Feature Selection using L1***"
      ]
    },
    {
      "cell_type": "code",
      "execution_count": 40,
      "metadata": {
        "colab": {
          "base_uri": "https://localhost:8080/"
        },
        "id": "SYsZEUF5rjjx",
        "outputId": "3fa7710c-6761-4f48-c1d5-837bc0d97cfe"
      },
      "outputs": [
        {
          "name": "stderr",
          "output_type": "stream",
          "text": [
            "/home/mark/.local/lib/python3.9/site-packages/sklearn/linear_model/_coordinate_descent.py:1572: DataConversionWarning: A column-vector y was passed when a 1d array was expected. Please change the shape of y to (n_samples, ), for example using ravel().\n",
            "  y = column_or_1d(y, warn=True)\n"
          ]
        },
        {
          "data": {
            "text/plain": [
              "LassoCV()"
            ]
          },
          "execution_count": 40,
          "metadata": {},
          "output_type": "execute_result"
        }
      ],
      "source": [
        "regressor = LassoCV()\n",
        "regressor.fit(X,y)"
      ]
    },
    {
      "cell_type": "code",
      "execution_count": 41,
      "metadata": {
        "colab": {
          "base_uri": "https://localhost:8080/",
          "height": 481
        },
        "id": "2DarEjf6rjw_",
        "outputId": "96434aed-637c-4910-fa3c-694f4d67c9b9"
      },
      "outputs": [
        {
          "name": "stdout",
          "output_type": "stream",
          "text": [
            "L1 selected only  77  features out of  162  from the transformed dataset \n"
          ]
        },
        {
          "data": {
            "text/plain": [
              "Text(0.5, 1.0, 'Feature Selection Using L1 Embedder')"
            ]
          },
          "execution_count": 41,
          "metadata": {},
          "output_type": "execute_result"
        },
        {
          "data": {
            "image/png": "[encoded data removed]",
            "text/plain": [
              "<Figure size 720x504 with 1 Axes>"
            ]
          },
          "metadata": {
            "needs_background": "light"
          },
          "output_type": "display_data"
        }
      ],
      "source": [
        "#print(regressor.coef_)\n",
        "coef_col = pd.Series(regressor.coef_,index=df_X.columns)\n",
        "\n",
        "#print(coef_col)\n",
        "sorted_coef = coef_col.sort_values()\n",
        "plt.rcParams['figure.figsize']=(10.0,7.0)\n",
        "sorted_coef.plot(kind=\"barh\")\n",
        "\n",
        "no_of_selected_features = sum(coef_col != 0)\n",
        "no_of_rejected_features = sum(coef_col == 0)\n",
        "total_features = no_of_selected_features + no_of_rejected_features\n",
        "print(\"L1 selected only \",no_of_selected_features,\" features out of \",total_features,\" from the transformed dataset \")\n",
        "plt.title(\"Feature Selection Using L1 Embedder\")"
      ]
    },
    {
      "cell_type": "markdown",
      "metadata": {
        "id": "Cy-sJNu-sCaW"
      },
      "source": [
        "***Retrieve the selected features***"
      ]
    },
    {
      "cell_type": "code",
      "execution_count": 42,
      "metadata": {
        "colab": {
          "base_uri": "https://localhost:8080/"
        },
        "id": "4ICNHnfJr4QE",
        "outputId": "11da4e5e-5dd1-435a-a0d7-c29db257e629"
      },
      "outputs": [
        {
          "data": {
            "text/plain": [
              "['Fireplaces',\n",
              " 'LotArea',\n",
              " 'OverallQual',\n",
              " 'BsmtFinSF1',\n",
              " 'OverallCond',\n",
              " 'BsmtFullBath',\n",
              " 'TotalBsmtSF',\n",
              " 'YearRemodAdd',\n",
              " 'PoolArea',\n",
              " 'YrSold',\n",
              " 'LowQualFinSF',\n",
              " 'LotFrontage',\n",
              " 'KitchenAbvGr',\n",
              " 'GarageCars',\n",
              " 'WoodDeckSF',\n",
              " 'YearBuilt',\n",
              " 'FullBath',\n",
              " 'GarageArea',\n",
              " 'GrLivArea',\n",
              " 'TotRmsAbvGrd',\n",
              " 'ScreenPorch',\n",
              " 'MasVnrArea',\n",
              " 'BedroomAbvGr',\n",
              " 'MoSold',\n",
              " 'BsmtFinSF2',\n",
              " 'MSSubClass',\n",
              " 'MSZoning_C (all)',\n",
              " 'MSZoning_FV',\n",
              " 'LandContour_Bnk',\n",
              " 'LandContour_HLS',\n",
              " 'LotConfig_CulDSac',\n",
              " 'LotConfig_FR2',\n",
              " 'LotConfig_FR3',\n",
              " 'Neighborhood_BrkSide',\n",
              " 'Neighborhood_Crawfor',\n",
              " 'Neighborhood_Edwards',\n",
              " 'Neighborhood_Mitchel',\n",
              " 'Neighborhood_NPkVill',\n",
              " 'Neighborhood_NWAmes',\n",
              " 'Neighborhood_NoRidge',\n",
              " 'Neighborhood_NridgHt',\n",
              " 'Neighborhood_OldTown',\n",
              " 'Neighborhood_Somerst',\n",
              " 'Neighborhood_StoneBr',\n",
              " 'Neighborhood_Veenker',\n",
              " 'RoofStyle_Gable',\n",
              " 'RoofMatl_ClyTile',\n",
              " 'RoofMatl_Membran',\n",
              " 'RoofMatl_Tar&Grv',\n",
              " 'RoofMatl_WdShngl',\n",
              " 'Exterior1st_BrkFace',\n",
              " 'Exterior1st_HdBoard',\n",
              " 'Exterior1st_ImStucc',\n",
              " 'Exterior1st_Plywood',\n",
              " 'Exterior2nd_ImStucc',\n",
              " 'Exterior2nd_Wd Shng',\n",
              " 'Foundation_BrkTil',\n",
              " 'Foundation_Wood',\n",
              " 'BsmtFinType1_GLQ',\n",
              " 'BsmtFinType1_LwQ',\n",
              " 'KitchenQual',\n",
              " 'Street',\n",
              " 'Condition2',\n",
              " 'BsmtExposure',\n",
              " 'Utilities',\n",
              " 'MasVnrType',\n",
              " 'BsmtQual',\n",
              " 'HeatingQC',\n",
              " 'FireplaceQu',\n",
              " 'SaleCondition',\n",
              " 'BldgType',\n",
              " 'ExterQual',\n",
              " 'BsmtCond',\n",
              " 'GarageFinish',\n",
              " 'SaleType',\n",
              " 'Functional',\n",
              " 'GarageCond']"
            ]
          },
          "execution_count": 42,
          "metadata": {},
          "output_type": "execute_result"
        }
      ],
      "source": [
        "selected_features_list = []\n",
        "for label, value in zip(coef_col.index, coef_col.values):\n",
        "    if value != 0:\n",
        "        selected_features_list.append(label)\n",
        "\n",
        "selected_features_list"
      ]
    },
    {
      "cell_type": "code",
      "execution_count": 43,
      "metadata": {
        "id": "gMqNeufUr4fv"
      },
      "outputs": [],
      "source": [
        "standardized_df = pd.DataFrame(X, columns=df_X.columns)"
      ]
    },
    {
      "cell_type": "code",
      "execution_count": 44,
      "metadata": {
        "colab": {
          "base_uri": "https://localhost:8080/",
          "height": 487
        },
        "id": "Tyjw4QAdr4t7",
        "outputId": "226f2c2b-d3c2-43ea-8dab-d8414a1d7230"
      },
      "outputs": [
        {
          "data": {
            "text/html": [
              "<div>\n",
              "<style scoped>\n",
              "    .dataframe tbody tr th:only-of-type {\n",
              "        vertical-align: middle;\n",
              "    }\n",
              "\n",
              "    .dataframe tbody tr th {\n",
              "        vertical-align: top;\n",
              "    }\n",
              "\n",
              "    .dataframe thead th {\n",
              "        text-align: right;\n",
              "    }\n",
              "</style>\n",
              "<table border=\"1\" class=\"dataframe\">\n",
              "  <thead>\n",
              "    <tr style=\"text-align: right;\">\n",
              "      <th></th>\n",
              "      <th>Fireplaces</th>\n",
              "      <th>LotArea</th>\n",
              "      <th>OverallQual</th>\n",
              "      <th>BsmtFinSF1</th>\n",
              "      <th>OverallCond</th>\n",
              "      <th>BsmtFullBath</th>\n",
              "      <th>TotalBsmtSF</th>\n",
              "      <th>YearRemodAdd</th>\n",
              "      <th>PoolArea</th>\n",
              "      <th>YrSold</th>\n",
              "      <th>...</th>\n",
              "      <th>HeatingQC</th>\n",
              "      <th>FireplaceQu</th>\n",
              "      <th>SaleCondition</th>\n",
              "      <th>BldgType</th>\n",
              "      <th>ExterQual</th>\n",
              "      <th>BsmtCond</th>\n",
              "      <th>GarageFinish</th>\n",
              "      <th>SaleType</th>\n",
              "      <th>Functional</th>\n",
              "      <th>GarageCond</th>\n",
              "    </tr>\n",
              "  </thead>\n",
              "  <tbody>\n",
              "    <tr>\n",
              "      <th>0</th>\n",
              "      <td>-0.951226</td>\n",
              "      <td>-0.207142</td>\n",
              "      <td>0.651479</td>\n",
              "      <td>0.575425</td>\n",
              "      <td>-0.517200</td>\n",
              "      <td>1.107810</td>\n",
              "      <td>-0.459303</td>\n",
              "      <td>0.878668</td>\n",
              "      <td>-0.068692</td>\n",
              "      <td>0.138777</td>\n",
              "      <td>...</td>\n",
              "      <td>-0.884658</td>\n",
              "      <td>1.115711</td>\n",
              "      <td>0.208502</td>\n",
              "      <td>-0.411691</td>\n",
              "      <td>-0.777976</td>\n",
              "      <td>0.286468</td>\n",
              "      <td>-0.227521</td>\n",
              "      <td>0.313867</td>\n",
              "      <td>0.255978</td>\n",
              "      <td>0.191521</td>\n",
              "    </tr>\n",
              "    <tr>\n",
              "      <th>1</th>\n",
              "      <td>0.600495</td>\n",
              "      <td>-0.091886</td>\n",
              "      <td>-0.071836</td>\n",
              "      <td>1.171992</td>\n",
              "      <td>2.179628</td>\n",
              "      <td>-0.819964</td>\n",
              "      <td>0.466465</td>\n",
              "      <td>-0.429577</td>\n",
              "      <td>-0.068692</td>\n",
              "      <td>-0.614439</td>\n",
              "      <td>...</td>\n",
              "      <td>-0.884658</td>\n",
              "      <td>1.115711</td>\n",
              "      <td>0.208502</td>\n",
              "      <td>-0.411691</td>\n",
              "      <td>0.663451</td>\n",
              "      <td>0.286468</td>\n",
              "      <td>-0.227521</td>\n",
              "      <td>0.313867</td>\n",
              "      <td>0.255978</td>\n",
              "      <td>0.191521</td>\n",
              "    </tr>\n",
              "    <tr>\n",
              "      <th>2</th>\n",
              "      <td>0.600495</td>\n",
              "      <td>0.073480</td>\n",
              "      <td>0.651479</td>\n",
              "      <td>0.092907</td>\n",
              "      <td>-0.517200</td>\n",
              "      <td>1.107810</td>\n",
              "      <td>-0.313369</td>\n",
              "      <td>0.830215</td>\n",
              "      <td>-0.068692</td>\n",
              "      <td>0.138777</td>\n",
              "      <td>...</td>\n",
              "      <td>-0.884658</td>\n",
              "      <td>1.115711</td>\n",
              "      <td>0.208502</td>\n",
              "      <td>-0.411691</td>\n",
              "      <td>-0.777976</td>\n",
              "      <td>0.286468</td>\n",
              "      <td>-0.227521</td>\n",
              "      <td>0.313867</td>\n",
              "      <td>0.255978</td>\n",
              "      <td>0.191521</td>\n",
              "    </tr>\n",
              "    <tr>\n",
              "      <th>3</th>\n",
              "      <td>0.600495</td>\n",
              "      <td>-0.096897</td>\n",
              "      <td>0.651479</td>\n",
              "      <td>-0.499274</td>\n",
              "      <td>-0.517200</td>\n",
              "      <td>1.107810</td>\n",
              "      <td>-0.687324</td>\n",
              "      <td>-0.720298</td>\n",
              "      <td>-0.068692</td>\n",
              "      <td>-1.367655</td>\n",
              "      <td>...</td>\n",
              "      <td>0.265476</td>\n",
              "      <td>-0.628334</td>\n",
              "      <td>-3.426284</td>\n",
              "      <td>-0.411691</td>\n",
              "      <td>0.663451</td>\n",
              "      <td>-2.711695</td>\n",
              "      <td>1.007349</td>\n",
              "      <td>0.313867</td>\n",
              "      <td>0.255978</td>\n",
              "      <td>0.191521</td>\n",
              "    </tr>\n",
              "    <tr>\n",
              "      <th>4</th>\n",
              "      <td>0.600495</td>\n",
              "      <td>0.375148</td>\n",
              "      <td>1.374795</td>\n",
              "      <td>0.463568</td>\n",
              "      <td>-0.517200</td>\n",
              "      <td>1.107810</td>\n",
              "      <td>0.199680</td>\n",
              "      <td>0.733308</td>\n",
              "      <td>-0.068692</td>\n",
              "      <td>0.138777</td>\n",
              "      <td>...</td>\n",
              "      <td>-0.884658</td>\n",
              "      <td>1.115711</td>\n",
              "      <td>0.208502</td>\n",
              "      <td>-0.411691</td>\n",
              "      <td>-0.777976</td>\n",
              "      <td>0.286468</td>\n",
              "      <td>-0.227521</td>\n",
              "      <td>0.313867</td>\n",
              "      <td>0.255978</td>\n",
              "      <td>0.191521</td>\n",
              "    </tr>\n",
              "    <tr>\n",
              "      <th>...</th>\n",
              "      <td>...</td>\n",
              "      <td>...</td>\n",
              "      <td>...</td>\n",
              "      <td>...</td>\n",
              "      <td>...</td>\n",
              "      <td>...</td>\n",
              "      <td>...</td>\n",
              "      <td>...</td>\n",
              "      <td>...</td>\n",
              "      <td>...</td>\n",
              "      <td>...</td>\n",
              "      <td>...</td>\n",
              "      <td>...</td>\n",
              "      <td>...</td>\n",
              "      <td>...</td>\n",
              "      <td>...</td>\n",
              "      <td>...</td>\n",
              "      <td>...</td>\n",
              "      <td>...</td>\n",
              "      <td>...</td>\n",
              "      <td>...</td>\n",
              "    </tr>\n",
              "    <tr>\n",
              "      <th>1455</th>\n",
              "      <td>0.600495</td>\n",
              "      <td>-0.260560</td>\n",
              "      <td>-0.071836</td>\n",
              "      <td>-0.973018</td>\n",
              "      <td>-0.517200</td>\n",
              "      <td>-0.819964</td>\n",
              "      <td>-0.238122</td>\n",
              "      <td>0.733308</td>\n",
              "      <td>-0.068692</td>\n",
              "      <td>-0.614439</td>\n",
              "      <td>...</td>\n",
              "      <td>-0.884658</td>\n",
              "      <td>1.115711</td>\n",
              "      <td>0.208502</td>\n",
              "      <td>-0.411691</td>\n",
              "      <td>0.663451</td>\n",
              "      <td>0.286468</td>\n",
              "      <td>-0.227521</td>\n",
              "      <td>0.313867</td>\n",
              "      <td>0.255978</td>\n",
              "      <td>0.191521</td>\n",
              "    </tr>\n",
              "    <tr>\n",
              "      <th>1456</th>\n",
              "      <td>2.152216</td>\n",
              "      <td>0.266407</td>\n",
              "      <td>-0.071836</td>\n",
              "      <td>0.759659</td>\n",
              "      <td>0.381743</td>\n",
              "      <td>1.107810</td>\n",
              "      <td>1.104925</td>\n",
              "      <td>0.151865</td>\n",
              "      <td>-0.068692</td>\n",
              "      <td>1.645210</td>\n",
              "      <td>...</td>\n",
              "      <td>1.415610</td>\n",
              "      <td>1.115711</td>\n",
              "      <td>0.208502</td>\n",
              "      <td>-0.411691</td>\n",
              "      <td>0.663451</td>\n",
              "      <td>0.286468</td>\n",
              "      <td>1.007349</td>\n",
              "      <td>0.313867</td>\n",
              "      <td>-3.828474</td>\n",
              "      <td>0.191521</td>\n",
              "    </tr>\n",
              "    <tr>\n",
              "      <th>1457</th>\n",
              "      <td>2.152216</td>\n",
              "      <td>-0.147810</td>\n",
              "      <td>0.651479</td>\n",
              "      <td>-0.369871</td>\n",
              "      <td>3.078570</td>\n",
              "      <td>-0.819964</td>\n",
              "      <td>0.215641</td>\n",
              "      <td>1.024029</td>\n",
              "      <td>-0.068692</td>\n",
              "      <td>1.645210</td>\n",
              "      <td>...</td>\n",
              "      <td>-0.884658</td>\n",
              "      <td>-0.628334</td>\n",
              "      <td>0.208502</td>\n",
              "      <td>-0.411691</td>\n",
              "      <td>-3.660830</td>\n",
              "      <td>-2.711695</td>\n",
              "      <td>-0.227521</td>\n",
              "      <td>0.313867</td>\n",
              "      <td>0.255978</td>\n",
              "      <td>0.191521</td>\n",
              "    </tr>\n",
              "    <tr>\n",
              "      <th>1458</th>\n",
              "      <td>-0.951226</td>\n",
              "      <td>-0.080160</td>\n",
              "      <td>-0.795151</td>\n",
              "      <td>-0.865548</td>\n",
              "      <td>0.381743</td>\n",
              "      <td>1.107810</td>\n",
              "      <td>0.046905</td>\n",
              "      <td>0.539493</td>\n",
              "      <td>-0.068692</td>\n",
              "      <td>1.645210</td>\n",
              "      <td>...</td>\n",
              "      <td>0.265476</td>\n",
              "      <td>-3.244401</td>\n",
              "      <td>0.208502</td>\n",
              "      <td>-0.411691</td>\n",
              "      <td>0.663451</td>\n",
              "      <td>0.286468</td>\n",
              "      <td>1.007349</td>\n",
              "      <td>0.313867</td>\n",
              "      <td>0.255978</td>\n",
              "      <td>0.191521</td>\n",
              "    </tr>\n",
              "    <tr>\n",
              "      <th>1459</th>\n",
              "      <td>-0.951226</td>\n",
              "      <td>-0.058112</td>\n",
              "      <td>-0.795151</td>\n",
              "      <td>0.847389</td>\n",
              "      <td>0.381743</td>\n",
              "      <td>1.107810</td>\n",
              "      <td>0.452784</td>\n",
              "      <td>-0.962566</td>\n",
              "      <td>-0.068692</td>\n",
              "      <td>0.138777</td>\n",
              "      <td>...</td>\n",
              "      <td>0.265476</td>\n",
              "      <td>-3.244401</td>\n",
              "      <td>0.208502</td>\n",
              "      <td>-0.411691</td>\n",
              "      <td>-0.777976</td>\n",
              "      <td>0.286468</td>\n",
              "      <td>-1.462390</td>\n",
              "      <td>0.313867</td>\n",
              "      <td>0.255978</td>\n",
              "      <td>0.191521</td>\n",
              "    </tr>\n",
              "  </tbody>\n",
              "</table>\n",
              "<p>1460 rows × 77 columns</p>\n",
              "</div>"
            ],
            "text/plain": [
              "      Fireplaces   LotArea  OverallQual  BsmtFinSF1  OverallCond  \\\n",
              "0      -0.951226 -0.207142     0.651479    0.575425    -0.517200   \n",
              "1       0.600495 -0.091886    -0.071836    1.171992     2.179628   \n",
              "2       0.600495  0.073480     0.651479    0.092907    -0.517200   \n",
              "3       0.600495 -0.096897     0.651479   -0.499274    -0.517200   \n",
              "4       0.600495  0.375148     1.374795    0.463568    -0.517200   \n",
              "...          ...       ...          ...         ...          ...   \n",
              "1455    0.600495 -0.260560    -0.071836   -0.973018    -0.517200   \n",
              "1456    2.152216  0.266407    -0.071836    0.759659     0.381743   \n",
              "1457    2.152216 -0.147810     0.651479   -0.369871     3.078570   \n",
              "1458   -0.951226 -0.080160    -0.795151   -0.865548     0.381743   \n",
              "1459   -0.951226 -0.058112    -0.795151    0.847389     0.381743   \n",
              "\n",
              "      BsmtFullBath  TotalBsmtSF  YearRemodAdd  PoolArea    YrSold  ...  \\\n",
              "0         1.107810    -0.459303      0.878668 -0.068692  0.138777  ...   \n",
              "1        -0.819964     0.466465     -0.429577 -0.068692 -0.614439  ...   \n",
              "2         1.107810    -0.313369      0.830215 -0.068692  0.138777  ...   \n",
              "3         1.107810    -0.687324     -0.720298 -0.068692 -1.367655  ...   \n",
              "4         1.107810     0.199680      0.733308 -0.068692  0.138777  ...   \n",
              "...            ...          ...           ...       ...       ...  ...   \n",
              "1455     -0.819964    -0.238122      0.733308 -0.068692 -0.614439  ...   \n",
              "1456      1.107810     1.104925      0.151865 -0.068692  1.645210  ...   \n",
              "1457     -0.819964     0.215641      1.024029 -0.068692  1.645210  ...   \n",
              "1458      1.107810     0.046905      0.539493 -0.068692  1.645210  ...   \n",
              "1459      1.107810     0.452784     -0.962566 -0.068692  0.138777  ...   \n",
              "\n",
              "      HeatingQC  FireplaceQu  SaleCondition  BldgType  ExterQual  BsmtCond  \\\n",
              "0     -0.884658     1.115711       0.208502 -0.411691  -0.777976  0.286468   \n",
              "1     -0.884658     1.115711       0.208502 -0.411691   0.663451  0.286468   \n",
              "2     -0.884658     1.115711       0.208502 -0.411691  -0.777976  0.286468   \n",
              "3      0.265476    -0.628334      -3.426284 -0.411691   0.663451 -2.711695   \n",
              "4     -0.884658     1.115711       0.208502 -0.411691  -0.777976  0.286468   \n",
              "...         ...          ...            ...       ...        ...       ...   \n",
              "1455  -0.884658     1.115711       0.208502 -0.411691   0.663451  0.286468   \n",
              "1456   1.415610     1.115711       0.208502 -0.411691   0.663451  0.286468   \n",
              "1457  -0.884658    -0.628334       0.208502 -0.411691  -3.660830 -2.711695   \n",
              "1458   0.265476    -3.244401       0.208502 -0.411691   0.663451  0.286468   \n",
              "1459   0.265476    -3.244401       0.208502 -0.411691  -0.777976  0.286468   \n",
              "\n",
              "      GarageFinish  SaleType  Functional  GarageCond  \n",
              "0        -0.227521  0.313867    0.255978    0.191521  \n",
              "1        -0.227521  0.313867    0.255978    0.191521  \n",
              "2        -0.227521  0.313867    0.255978    0.191521  \n",
              "3         1.007349  0.313867    0.255978    0.191521  \n",
              "4        -0.227521  0.313867    0.255978    0.191521  \n",
              "...            ...       ...         ...         ...  \n",
              "1455     -0.227521  0.313867    0.255978    0.191521  \n",
              "1456      1.007349  0.313867   -3.828474    0.191521  \n",
              "1457     -0.227521  0.313867    0.255978    0.191521  \n",
              "1458      1.007349  0.313867    0.255978    0.191521  \n",
              "1459     -1.462390  0.313867    0.255978    0.191521  \n",
              "\n",
              "[1460 rows x 77 columns]"
            ]
          },
          "execution_count": 44,
          "metadata": {},
          "output_type": "execute_result"
        }
      ],
      "source": [
        "X = standardized_df[selected_features_list]\n",
        "X"
      ]
    },
    {
      "cell_type": "markdown",
      "metadata": {
        "id": "x1a52kvYsQtI"
      },
      "source": [
        "***Split the Dataset***"
      ]
    },
    {
      "cell_type": "code",
      "execution_count": 45,
      "metadata": {
        "colab": {
          "base_uri": "https://localhost:8080/",
          "height": 423
        },
        "id": "DCa59_Zar5bK",
        "outputId": "a0d69ad5-2f7e-4c00-8711-c38a8d338daf"
      },
      "outputs": [
        {
          "data": {
            "text/html": [
              "<div>\n",
              "<style scoped>\n",
              "    .dataframe tbody tr th:only-of-type {\n",
              "        vertical-align: middle;\n",
              "    }\n",
              "\n",
              "    .dataframe tbody tr th {\n",
              "        vertical-align: top;\n",
              "    }\n",
              "\n",
              "    .dataframe thead th {\n",
              "        text-align: right;\n",
              "    }\n",
              "</style>\n",
              "<table border=\"1\" class=\"dataframe\">\n",
              "  <thead>\n",
              "    <tr style=\"text-align: right;\">\n",
              "      <th></th>\n",
              "      <th>SalePrice</th>\n",
              "    </tr>\n",
              "  </thead>\n",
              "  <tbody>\n",
              "    <tr>\n",
              "      <th>0</th>\n",
              "      <td>0.347273</td>\n",
              "    </tr>\n",
              "    <tr>\n",
              "      <th>1</th>\n",
              "      <td>0.007288</td>\n",
              "    </tr>\n",
              "    <tr>\n",
              "      <th>2</th>\n",
              "      <td>0.536154</td>\n",
              "    </tr>\n",
              "    <tr>\n",
              "      <th>3</th>\n",
              "      <td>-0.515281</td>\n",
              "    </tr>\n",
              "    <tr>\n",
              "      <th>4</th>\n",
              "      <td>0.869843</td>\n",
              "    </tr>\n",
              "    <tr>\n",
              "      <th>...</th>\n",
              "      <td>...</td>\n",
              "    </tr>\n",
              "    <tr>\n",
              "      <th>1455</th>\n",
              "      <td>-0.074560</td>\n",
              "    </tr>\n",
              "    <tr>\n",
              "      <th>1456</th>\n",
              "      <td>0.366161</td>\n",
              "    </tr>\n",
              "    <tr>\n",
              "      <th>1457</th>\n",
              "      <td>1.077611</td>\n",
              "    </tr>\n",
              "    <tr>\n",
              "      <th>1458</th>\n",
              "      <td>-0.488523</td>\n",
              "    </tr>\n",
              "    <tr>\n",
              "      <th>1459</th>\n",
              "      <td>-0.420841</td>\n",
              "    </tr>\n",
              "  </tbody>\n",
              "</table>\n",
              "<p>1460 rows × 1 columns</p>\n",
              "</div>"
            ],
            "text/plain": [
              "      SalePrice\n",
              "0      0.347273\n",
              "1      0.007288\n",
              "2      0.536154\n",
              "3     -0.515281\n",
              "4      0.869843\n",
              "...         ...\n",
              "1455  -0.074560\n",
              "1456   0.366161\n",
              "1457   1.077611\n",
              "1458  -0.488523\n",
              "1459  -0.420841\n",
              "\n",
              "[1460 rows x 1 columns]"
            ]
          },
          "execution_count": 45,
          "metadata": {},
          "output_type": "execute_result"
        }
      ],
      "source": [
        "y = pd.DataFrame(y, columns = df_y.columns)\n",
        "y"
      ]
    },
    {
      "cell_type": "code",
      "execution_count": 46,
      "metadata": {
        "id": "5WJ8QU34sUf8"
      },
      "outputs": [],
      "source": [
        "X_train, X_test, y_train, y_test = train_test_split(X,y,test_size=0.3)"
      ]
    },
    {
      "cell_type": "code",
      "execution_count": 47,
      "metadata": {
        "colab": {
          "base_uri": "https://localhost:8080/"
        },
        "id": "cTeYBZFYsU3_",
        "outputId": "2c6b50fd-f30c-4414-9a2c-260d32d2e2a7"
      },
      "outputs": [
        {
          "data": {
            "text/plain": [
              "(1022, 77)"
            ]
          },
          "execution_count": 47,
          "metadata": {},
          "output_type": "execute_result"
        }
      ],
      "source": [
        "X_train.shape"
      ]
    },
    {
      "cell_type": "markdown",
      "metadata": {
        "id": "fYyG6ZqEsfAH"
      },
      "source": [
        "***Train the Model***\n",
        "\n",
        "**Build the sequential model to be trained on the data**"
      ]
    },
    {
      "cell_type": "code",
      "execution_count": 48,
      "metadata": {
        "id": "4z6hM_MgsVOa"
      },
      "outputs": [
        {
          "name": "stderr",
          "output_type": "stream",
          "text": [
            "2022-07-20 09:49:14.476212: I tensorflow/stream_executor/cuda/cuda_gpu_executor.cc:939] successful NUMA node read from SysFS had negative value (-1), but there must be at least one NUMA node, so returning NUMA node zero\n",
            "2022-07-20 09:49:14.476490: W tensorflow/stream_executor/platform/default/dso_loader.cc:64] Could not load dynamic library 'libcudart.so.11.0'; dlerror: libcudart.so.11.0: cannot open shared object file: No such file or directory\n",
            "2022-07-20 09:49:14.476545: W tensorflow/stream_executor/platform/default/dso_loader.cc:64] Could not load dynamic library 'libcublas.so.11'; dlerror: libcublas.so.11: cannot open shared object file: No such file or directory\n",
            "2022-07-20 09:49:14.476587: W tensorflow/stream_executor/platform/default/dso_loader.cc:64] Could not load dynamic library 'libcublasLt.so.11'; dlerror: libcublasLt.so.11: cannot open shared object file: No such file or directory\n",
            "2022-07-20 09:49:14.476628: W tensorflow/stream_executor/platform/default/dso_loader.cc:64] Could not load dynamic library 'libcufft.so.10'; dlerror: libcufft.so.10: cannot open shared object file: No such file or directory\n",
            "2022-07-20 09:49:14.476668: W tensorflow/stream_executor/platform/default/dso_loader.cc:64] Could not load dynamic library 'libcurand.so.10'; dlerror: libcurand.so.10: cannot open shared object file: No such file or directory\n",
            "2022-07-20 09:49:14.476706: W tensorflow/stream_executor/platform/default/dso_loader.cc:64] Could not load dynamic library 'libcusolver.so.11'; dlerror: libcusolver.so.11: cannot open shared object file: No such file or directory\n",
            "2022-07-20 09:49:14.476744: W tensorflow/stream_executor/platform/default/dso_loader.cc:64] Could not load dynamic library 'libcusparse.so.11'; dlerror: libcusparse.so.11: cannot open shared object file: No such file or directory\n",
            "2022-07-20 09:49:14.476783: W tensorflow/stream_executor/platform/default/dso_loader.cc:64] Could not load dynamic library 'libcudnn.so.8'; dlerror: libcudnn.so.8: cannot open shared object file: No such file or directory\n",
            "2022-07-20 09:49:14.476789: W tensorflow/core/common_runtime/gpu/gpu_device.cc:1850] Cannot dlopen some GPU libraries. Please make sure the missing libraries mentioned above are installed properly if you would like to use GPU. Follow the guide at https://www.tensorflow.org/install/gpu for how to download and setup the required libraries for your platform.\n",
            "Skipping registering GPU devices...\n",
            "2022-07-20 09:49:14.477045: I tensorflow/core/platform/cpu_feature_guard.cc:151] This TensorFlow binary is optimized with oneAPI Deep Neural Network Library (oneDNN) to use the following CPU instructions in performance-critical operations:  AVX2 FMA\n",
            "To enable them in other operations, rebuild TensorFlow with the appropriate compiler flags.\n"
          ]
        }
      ],
      "source": [
        "model = Sequential()"
      ]
    },
    {
      "cell_type": "code",
      "execution_count": 49,
      "metadata": {
        "id": "E-fR_-wQsVZ7"
      },
      "outputs": [],
      "source": [
        "# input layer\n",
        "model.add(Dense(78, activation = 'relu'))\n",
        "model.add(Dropout(0.2))\n",
        "\n",
        "# hidden layer\n",
        "model.add(Dense(39, activation = 'relu'))\n",
        "model.add(Dropout(0.2))\n",
        "\n",
        "# hidden layer\n",
        "model.add(Dense(19, activation = 'relu'))\n",
        "model.add(Dropout(0.2))\n",
        "\n",
        "# output layer\n",
        "model.add(Dense(units=1, activation = 'sigmoid'))\n",
        "\n",
        "# compile model\n",
        "model.compile(loss='mse', optimizer='adam')"
      ]
    },
    {
      "cell_type": "markdown",
      "metadata": {
        "id": "2bTMIRZWsrl4"
      },
      "source": [
        "**Fit the model to the training data**"
      ]
    },
    {
      "cell_type": "code",
      "execution_count": 50,
      "metadata": {
        "colab": {
          "base_uri": "https://localhost:8080/"
        },
        "id": "n_iw7oCMsVkf",
        "outputId": "ded3eb34-b0eb-408b-9bab-e94dcafd41dc"
      },
      "outputs": [
        {
          "name": "stdout",
          "output_type": "stream",
          "text": [
            "Epoch 1/100\n",
            "4/4 [==============================] - 2s 53ms/step - loss: 1.2152 - val_loss: 1.3386\n",
            "Epoch 2/100\n",
            "4/4 [==============================] - 0s 10ms/step - loss: 1.0694 - val_loss: 1.2012\n",
            "Epoch 3/100\n",
            "4/4 [==============================] - 0s 10ms/step - loss: 0.9575 - val_loss: 1.0973\n",
            "Epoch 4/100\n",
            "4/4 [==============================] - 0s 10ms/step - loss: 0.8672 - val_loss: 1.0143\n",
            "Epoch 5/100\n",
            "4/4 [==============================] - 0s 9ms/step - loss: 0.7958 - val_loss: 0.9496\n",
            "Epoch 6/100\n",
            "4/4 [==============================] - 0s 9ms/step - loss: 0.7254 - val_loss: 0.9007\n",
            "Epoch 7/100\n",
            "4/4 [==============================] - 0s 10ms/step - loss: 0.7051 - val_loss: 0.8628\n",
            "Epoch 8/100\n",
            "4/4 [==============================] - 0s 9ms/step - loss: 0.6749 - val_loss: 0.8339\n",
            "Epoch 9/100\n",
            "4/4 [==============================] - 0s 9ms/step - loss: 0.6466 - val_loss: 0.8106\n",
            "Epoch 10/100\n",
            "4/4 [==============================] - 0s 11ms/step - loss: 0.6196 - val_loss: 0.7894\n",
            "Epoch 11/100\n",
            "4/4 [==============================] - 0s 9ms/step - loss: 0.6179 - val_loss: 0.7713\n",
            "Epoch 12/100\n",
            "4/4 [==============================] - 0s 9ms/step - loss: 0.6060 - val_loss: 0.7586\n",
            "Epoch 13/100\n",
            "4/4 [==============================] - 0s 8ms/step - loss: 0.5935 - val_loss: 0.7491\n",
            "Epoch 14/100\n",
            "4/4 [==============================] - 0s 9ms/step - loss: 0.5885 - val_loss: 0.7424\n",
            "Epoch 15/100\n",
            "4/4 [==============================] - 0s 10ms/step - loss: 0.5838 - val_loss: 0.7373\n",
            "Epoch 16/100\n",
            "4/4 [==============================] - 0s 12ms/step - loss: 0.5778 - val_loss: 0.7330\n",
            "Epoch 17/100\n",
            "4/4 [==============================] - 0s 11ms/step - loss: 0.5672 - val_loss: 0.7295\n",
            "Epoch 18/100\n",
            "4/4 [==============================] - 0s 10ms/step - loss: 0.5771 - val_loss: 0.7268\n",
            "Epoch 19/100\n",
            "4/4 [==============================] - 0s 11ms/step - loss: 0.5656 - val_loss: 0.7246\n",
            "Epoch 20/100\n",
            "4/4 [==============================] - 0s 10ms/step - loss: 0.5587 - val_loss: 0.7230\n",
            "Epoch 21/100\n",
            "4/4 [==============================] - 0s 10ms/step - loss: 0.5571 - val_loss: 0.7216\n",
            "Epoch 22/100\n",
            "4/4 [==============================] - 0s 12ms/step - loss: 0.5570 - val_loss: 0.7206\n",
            "Epoch 23/100\n",
            "4/4 [==============================] - 0s 10ms/step - loss: 0.5482 - val_loss: 0.7197\n",
            "Epoch 24/100\n",
            "4/4 [==============================] - 0s 10ms/step - loss: 0.5559 - val_loss: 0.7189\n",
            "Epoch 25/100\n",
            "4/4 [==============================] - 0s 11ms/step - loss: 0.5530 - val_loss: 0.7184\n",
            "Epoch 26/100\n",
            "4/4 [==============================] - 0s 10ms/step - loss: 0.5530 - val_loss: 0.7179\n",
            "Epoch 27/100\n",
            "4/4 [==============================] - 0s 13ms/step - loss: 0.5437 - val_loss: 0.7175\n",
            "Epoch 28/100\n",
            "4/4 [==============================] - 0s 10ms/step - loss: 0.5426 - val_loss: 0.7172\n",
            "Epoch 29/100\n",
            "4/4 [==============================] - 0s 10ms/step - loss: 0.5446 - val_loss: 0.7169\n",
            "Epoch 30/100\n",
            "4/4 [==============================] - 0s 11ms/step - loss: 0.5367 - val_loss: 0.7168\n",
            "Epoch 31/100\n",
            "4/4 [==============================] - 0s 9ms/step - loss: 0.5334 - val_loss: 0.7166\n",
            "Epoch 32/100\n",
            "4/4 [==============================] - 0s 11ms/step - loss: 0.5381 - val_loss: 0.7162\n",
            "Epoch 33/100\n",
            "4/4 [==============================] - 0s 12ms/step - loss: 0.5387 - val_loss: 0.7159\n",
            "Epoch 34/100\n",
            "4/4 [==============================] - 0s 10ms/step - loss: 0.5373 - val_loss: 0.7158\n",
            "Epoch 35/100\n",
            "4/4 [==============================] - 0s 11ms/step - loss: 0.5347 - val_loss: 0.7157\n",
            "Epoch 36/100\n",
            "4/4 [==============================] - 0s 10ms/step - loss: 0.5387 - val_loss: 0.7154\n",
            "Epoch 37/100\n",
            "4/4 [==============================] - 0s 10ms/step - loss: 0.5316 - val_loss: 0.7152\n",
            "Epoch 38/100\n",
            "4/4 [==============================] - 0s 13ms/step - loss: 0.5367 - val_loss: 0.7151\n",
            "Epoch 39/100\n",
            "4/4 [==============================] - 0s 12ms/step - loss: 0.5332 - val_loss: 0.7150\n",
            "Epoch 40/100\n",
            "4/4 [==============================] - 0s 10ms/step - loss: 0.5325 - val_loss: 0.7148\n",
            "Epoch 41/100\n",
            "4/4 [==============================] - 0s 11ms/step - loss: 0.5310 - val_loss: 0.7145\n",
            "Epoch 42/100\n",
            "4/4 [==============================] - 0s 10ms/step - loss: 0.5272 - val_loss: 0.7142\n",
            "Epoch 43/100\n",
            "4/4 [==============================] - 0s 13ms/step - loss: 0.5311 - val_loss: 0.7138\n",
            "Epoch 44/100\n",
            "4/4 [==============================] - 0s 10ms/step - loss: 0.5324 - val_loss: 0.7136\n",
            "Epoch 45/100\n",
            "4/4 [==============================] - 0s 10ms/step - loss: 0.5296 - val_loss: 0.7136\n",
            "Epoch 46/100\n",
            "4/4 [==============================] - 0s 11ms/step - loss: 0.5342 - val_loss: 0.7132\n",
            "Epoch 47/100\n",
            "4/4 [==============================] - 0s 11ms/step - loss: 0.5271 - val_loss: 0.7129\n",
            "Epoch 48/100\n",
            "4/4 [==============================] - 0s 10ms/step - loss: 0.5274 - val_loss: 0.7127\n",
            "Epoch 49/100\n",
            "4/4 [==============================] - 0s 13ms/step - loss: 0.5278 - val_loss: 0.7126\n",
            "Epoch 50/100\n",
            "4/4 [==============================] - 0s 10ms/step - loss: 0.5267 - val_loss: 0.7125\n",
            "Epoch 51/100\n",
            "4/4 [==============================] - 0s 10ms/step - loss: 0.5320 - val_loss: 0.7123\n",
            "Epoch 52/100\n",
            "4/4 [==============================] - 0s 10ms/step - loss: 0.5310 - val_loss: 0.7121\n",
            "Epoch 53/100\n",
            "4/4 [==============================] - 0s 10ms/step - loss: 0.5302 - val_loss: 0.7119\n",
            "Epoch 54/100\n",
            "4/4 [==============================] - 0s 12ms/step - loss: 0.5278 - val_loss: 0.7118\n",
            "Epoch 55/100\n",
            "4/4 [==============================] - 0s 9ms/step - loss: 0.5268 - val_loss: 0.7118\n",
            "Epoch 56/100\n",
            "4/4 [==============================] - 0s 9ms/step - loss: 0.5276 - val_loss: 0.7117\n",
            "Epoch 57/100\n",
            "4/4 [==============================] - 0s 10ms/step - loss: 0.5255 - val_loss: 0.7116\n",
            "Epoch 58/100\n",
            "4/4 [==============================] - 0s 11ms/step - loss: 0.5267 - val_loss: 0.7115\n",
            "Epoch 59/100\n",
            "4/4 [==============================] - 0s 10ms/step - loss: 0.5278 - val_loss: 0.7113\n",
            "Epoch 60/100\n",
            "4/4 [==============================] - 0s 13ms/step - loss: 0.5275 - val_loss: 0.7112\n",
            "Epoch 61/100\n",
            "4/4 [==============================] - 0s 11ms/step - loss: 0.5226 - val_loss: 0.7112\n",
            "Epoch 62/100\n",
            "4/4 [==============================] - 0s 10ms/step - loss: 0.5243 - val_loss: 0.7111\n",
            "Epoch 63/100\n",
            "4/4 [==============================] - 0s 11ms/step - loss: 0.5224 - val_loss: 0.7110\n",
            "Epoch 64/100\n",
            "4/4 [==============================] - 0s 9ms/step - loss: 0.5256 - val_loss: 0.7110\n",
            "Epoch 65/100\n",
            "4/4 [==============================] - 0s 13ms/step - loss: 0.5236 - val_loss: 0.7110\n",
            "Epoch 66/100\n",
            "4/4 [==============================] - 0s 11ms/step - loss: 0.5264 - val_loss: 0.7109\n",
            "Epoch 67/100\n",
            "4/4 [==============================] - 0s 10ms/step - loss: 0.5256 - val_loss: 0.7108\n",
            "Epoch 68/100\n",
            "4/4 [==============================] - 0s 11ms/step - loss: 0.5258 - val_loss: 0.7107\n",
            "Epoch 69/100\n",
            "4/4 [==============================] - 0s 9ms/step - loss: 0.5236 - val_loss: 0.7106\n",
            "Epoch 70/100\n",
            "4/4 [==============================] - 0s 9ms/step - loss: 0.5220 - val_loss: 0.7105\n",
            "Epoch 71/100\n",
            "4/4 [==============================] - 0s 11ms/step - loss: 0.5246 - val_loss: 0.7105\n",
            "Epoch 72/100\n",
            "4/4 [==============================] - 0s 9ms/step - loss: 0.5224 - val_loss: 0.7105\n",
            "Epoch 73/100\n",
            "4/4 [==============================] - 0s 9ms/step - loss: 0.5228 - val_loss: 0.7104\n",
            "Epoch 74/100\n",
            "4/4 [==============================] - 0s 9ms/step - loss: 0.5203 - val_loss: 0.7103\n",
            "Epoch 75/100\n",
            "4/4 [==============================] - 0s 9ms/step - loss: 0.5229 - val_loss: 0.7102\n",
            "Epoch 76/100\n",
            "4/4 [==============================] - 0s 10ms/step - loss: 0.5211 - val_loss: 0.7101\n",
            "Epoch 77/100\n",
            "4/4 [==============================] - 0s 13ms/step - loss: 0.5212 - val_loss: 0.7101\n",
            "Epoch 78/100\n",
            "4/4 [==============================] - 0s 9ms/step - loss: 0.5205 - val_loss: 0.7099\n",
            "Epoch 79/100\n",
            "4/4 [==============================] - 0s 9ms/step - loss: 0.5230 - val_loss: 0.7099\n",
            "Epoch 80/100\n",
            "4/4 [==============================] - 0s 11ms/step - loss: 0.5227 - val_loss: 0.7099\n",
            "Epoch 81/100\n",
            "4/4 [==============================] - 0s 10ms/step - loss: 0.5212 - val_loss: 0.7099\n",
            "Epoch 82/100\n",
            "4/4 [==============================] - 0s 8ms/step - loss: 0.5211 - val_loss: 0.7100\n",
            "Epoch 83/100\n",
            "4/4 [==============================] - 0s 10ms/step - loss: 0.5216 - val_loss: 0.7100\n",
            "Epoch 84/100\n",
            "4/4 [==============================] - 0s 9ms/step - loss: 0.5216 - val_loss: 0.7099\n",
            "Epoch 85/100\n",
            "4/4 [==============================] - 0s 10ms/step - loss: 0.5211 - val_loss: 0.7097\n",
            "Epoch 86/100\n",
            "4/4 [==============================] - 0s 10ms/step - loss: 0.5200 - val_loss: 0.7096\n",
            "Epoch 87/100\n",
            "4/4 [==============================] - 0s 10ms/step - loss: 0.5202 - val_loss: 0.7096\n",
            "Epoch 88/100\n",
            "4/4 [==============================] - 0s 11ms/step - loss: 0.5235 - val_loss: 0.7097\n",
            "Epoch 89/100\n",
            "4/4 [==============================] - 0s 12ms/step - loss: 0.5193 - val_loss: 0.7096\n",
            "Epoch 90/100\n",
            "4/4 [==============================] - 0s 10ms/step - loss: 0.5204 - val_loss: 0.7095\n",
            "Epoch 91/100\n",
            "4/4 [==============================] - 0s 11ms/step - loss: 0.5201 - val_loss: 0.7092\n",
            "Epoch 92/100\n",
            "4/4 [==============================] - 0s 10ms/step - loss: 0.5187 - val_loss: 0.7090\n",
            "Epoch 93/100\n",
            "4/4 [==============================] - 0s 11ms/step - loss: 0.5196 - val_loss: 0.7089\n",
            "Epoch 94/100\n",
            "4/4 [==============================] - 0s 13ms/step - loss: 0.5205 - val_loss: 0.7087\n",
            "Epoch 95/100\n",
            "4/4 [==============================] - 0s 10ms/step - loss: 0.5218 - val_loss: 0.7084\n",
            "Epoch 96/100\n",
            "4/4 [==============================] - 0s 11ms/step - loss: 0.5206 - val_loss: 0.7081\n",
            "Epoch 97/100\n",
            "4/4 [==============================] - 0s 10ms/step - loss: 0.5218 - val_loss: 0.7078\n",
            "Epoch 98/100\n",
            "4/4 [==============================] - 0s 9ms/step - loss: 0.5183 - val_loss: 0.7075\n",
            "Epoch 99/100\n",
            "4/4 [==============================] - 0s 12ms/step - loss: 0.5182 - val_loss: 0.7073\n",
            "Epoch 100/100\n",
            "4/4 [==============================] - 0s 11ms/step - loss: 0.5205 - val_loss: 0.7070\n"
          ]
        },
        {
          "data": {
            "text/plain": [
              "<keras.callbacks.History at 0x7fc129909940>"
            ]
          },
          "execution_count": 50,
          "metadata": {},
          "output_type": "execute_result"
        }
      ],
      "source": [
        "model.fit(X_train, y_train,\n",
        "         validation_data=(X_test, y_test),\n",
        "         epochs = 100,\n",
        "         batch_size=256\n",
        "         )"
      ]
    },
    {
      "cell_type": "markdown",
      "metadata": {
        "id": "muT3p400s6iC"
      },
      "source": [
        "**Evaluate Model Performance**"
      ]
    },
    {
      "cell_type": "code",
      "execution_count": 51,
      "metadata": {
        "colab": {
          "base_uri": "https://localhost:8080/",
          "height": 423
        },
        "id": "8ZBW-1hAsowA",
        "outputId": "a450339a-4055-4f45-dcab-974f97b99ea5"
      },
      "outputs": [
        {
          "data": {
            "text/html": [
              "<div>\n",
              "<style scoped>\n",
              "    .dataframe tbody tr th:only-of-type {\n",
              "        vertical-align: middle;\n",
              "    }\n",
              "\n",
              "    .dataframe tbody tr th {\n",
              "        vertical-align: top;\n",
              "    }\n",
              "\n",
              "    .dataframe thead th {\n",
              "        text-align: right;\n",
              "    }\n",
              "</style>\n",
              "<table border=\"1\" class=\"dataframe\">\n",
              "  <thead>\n",
              "    <tr style=\"text-align: right;\">\n",
              "      <th></th>\n",
              "      <th>loss</th>\n",
              "      <th>val_loss</th>\n",
              "    </tr>\n",
              "  </thead>\n",
              "  <tbody>\n",
              "    <tr>\n",
              "      <th>0</th>\n",
              "      <td>1.215245</td>\n",
              "      <td>1.338574</td>\n",
              "    </tr>\n",
              "    <tr>\n",
              "      <th>1</th>\n",
              "      <td>1.069422</td>\n",
              "      <td>1.201194</td>\n",
              "    </tr>\n",
              "    <tr>\n",
              "      <th>2</th>\n",
              "      <td>0.957538</td>\n",
              "      <td>1.097326</td>\n",
              "    </tr>\n",
              "    <tr>\n",
              "      <th>3</th>\n",
              "      <td>0.867180</td>\n",
              "      <td>1.014340</td>\n",
              "    </tr>\n",
              "    <tr>\n",
              "      <th>4</th>\n",
              "      <td>0.795819</td>\n",
              "      <td>0.949649</td>\n",
              "    </tr>\n",
              "    <tr>\n",
              "      <th>...</th>\n",
              "      <td>...</td>\n",
              "      <td>...</td>\n",
              "    </tr>\n",
              "    <tr>\n",
              "      <th>95</th>\n",
              "      <td>0.520633</td>\n",
              "      <td>0.708137</td>\n",
              "    </tr>\n",
              "    <tr>\n",
              "      <th>96</th>\n",
              "      <td>0.521792</td>\n",
              "      <td>0.707798</td>\n",
              "    </tr>\n",
              "    <tr>\n",
              "      <th>97</th>\n",
              "      <td>0.518299</td>\n",
              "      <td>0.707498</td>\n",
              "    </tr>\n",
              "    <tr>\n",
              "      <th>98</th>\n",
              "      <td>0.518248</td>\n",
              "      <td>0.707265</td>\n",
              "    </tr>\n",
              "    <tr>\n",
              "      <th>99</th>\n",
              "      <td>0.520536</td>\n",
              "      <td>0.707048</td>\n",
              "    </tr>\n",
              "  </tbody>\n",
              "</table>\n",
              "<p>100 rows × 2 columns</p>\n",
              "</div>"
            ],
            "text/plain": [
              "        loss  val_loss\n",
              "0   1.215245  1.338574\n",
              "1   1.069422  1.201194\n",
              "2   0.957538  1.097326\n",
              "3   0.867180  1.014340\n",
              "4   0.795819  0.949649\n",
              "..       ...       ...\n",
              "95  0.520633  0.708137\n",
              "96  0.521792  0.707798\n",
              "97  0.518299  0.707498\n",
              "98  0.518248  0.707265\n",
              "99  0.520536  0.707048\n",
              "\n",
              "[100 rows x 2 columns]"
            ]
          },
          "execution_count": 51,
          "metadata": {},
          "output_type": "execute_result"
        }
      ],
      "source": [
        "losses = pd.DataFrame(model.history.history)\n",
        "losses"
      ]
    },
    {
      "cell_type": "code",
      "execution_count": 52,
      "metadata": {
        "colab": {
          "base_uri": "https://localhost:8080/",
          "height": 446
        },
        "id": "SROCogunso9B",
        "outputId": "f481c8cd-67e1-45bd-964d-ac876a104f31"
      },
      "outputs": [
        {
          "data": {
            "text/plain": [
              "<AxesSubplot:>"
            ]
          },
          "execution_count": 52,
          "metadata": {},
          "output_type": "execute_result"
        },
        {
          "data": {
            "image/png": "[encoded data removed]",
            "text/plain": [
              "<Figure size 720x504 with 1 Axes>"
            ]
          },
          "metadata": {
            "needs_background": "light"
          },
          "output_type": "display_data"
        }
      ],
      "source": [
        "losses.plot()"
      ]
    },
    {
      "cell_type": "code",
      "execution_count": 53,
      "metadata": {
        "id": "2v0Ky1VwspIA"
      },
      "outputs": [],
      "source": [
        "y_hat = model.predict(X_test)"
      ]
    },
    {
      "cell_type": "code",
      "execution_count": 54,
      "metadata": {
        "colab": {
          "base_uri": "https://localhost:8080/"
        },
        "id": "2VawDCllspTU",
        "outputId": "12b5eb6f-c68e-465e-d74c-6356e93a299d"
      },
      "outputs": [
        {
          "data": {
            "text/plain": [
              "0.5847258961861268"
            ]
          },
          "execution_count": 54,
          "metadata": {},
          "output_type": "execute_result"
        }
      ],
      "source": [
        "mean_absolute_error(y_test,y_hat)"
      ]
    },
    {
      "cell_type": "code",
      "execution_count": 55,
      "metadata": {
        "colab": {
          "base_uri": "https://localhost:8080/"
        },
        "id": "rQEmpgWIspdh",
        "outputId": "3a4f7f62-5f34-45ef-d37c-c72077ffc499"
      },
      "outputs": [
        {
          "data": {
            "text/plain": [
              "0.7070476010539842"
            ]
          },
          "execution_count": 55,
          "metadata": {},
          "output_type": "execute_result"
        }
      ],
      "source": [
        "mean_squared_error(y_test, y_hat)"
      ]
    },
    {
      "cell_type": "code",
      "execution_count": 56,
      "metadata": {
        "colab": {
          "base_uri": "https://localhost:8080/",
          "height": 446
        },
        "id": "4z_F_uJHspor",
        "outputId": "0f3a6f71-f2c1-46d6-dd3d-83c383d27553"
      },
      "outputs": [
        {
          "data": {
            "text/plain": [
              "<matplotlib.collections.PathCollection at 0x7fc128552c70>"
            ]
          },
          "execution_count": 56,
          "metadata": {},
          "output_type": "execute_result"
        },
        {
          "data": {
            "image/png": "[encoded data removed]",
            "text/plain": [
              "<Figure size 720x504 with 1 Axes>"
            ]
          },
          "metadata": {
            "needs_background": "light"
          },
          "output_type": "display_data"
        }
      ],
      "source": [
        "# Predicted values vs Actual Values\n",
        "plt.scatter(y_test, y_hat)"
      ]
    }
  ],
  "metadata": {
    "colab": {
      "collapsed_sections": [],
      "include_colab_link": true,
      "name": "group_task2_ML_ICS.ipynb",
      "provenance": []
    },
    "kernelspec": {
      "display_name": "Python 3.9.7 64-bit",
      "language": "python",
      "name": "python3"
    },
    "language_info": {
      "codemirror_mode": {
        "name": "ipython",
        "version": 3
      },
      "file_extension": ".py",
      "mimetype": "text/x-python",
      "name": "python",
      "nbconvert_exporter": "python",
      "pygments_lexer": "ipython3",
      "version": "3.9.7"
    },
    "vscode": {
      "interpreter": {
        "hash": "916dbcbb3f70747c44a77c7bcd40155683ae19c65e1c03b4aa3499c5328201f1"
      }
    }
  },
  "nbformat": 4,
  "nbformat_minor": 0
}
